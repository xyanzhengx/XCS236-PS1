{
  "cells": [
    {
      "cell_type": "markdown",
      "metadata": {
        "id": "view-in-github",
        "colab_type": "text"
      },
      "source": [
        "<a href=\"https://colab.research.google.com/github/xyanzhengx/XCS236-PS1/blob/main/Notebook/XCS224W_Colab5.ipynb\" target=\"_parent\"><img src=\"https://colab.research.google.com/assets/colab-badge.svg\" alt=\"Open In Colab\"/></a>"
      ]
    },
    {
      "cell_type": "markdown",
      "metadata": {
        "id": "XuXWJLEm2UWS"
      },
      "source": [
        "# **CS224W - Colab 5**\n",
        "\n",
        "[![Open In Colab](https://colab.research.google.com/assets/colab-badge.svg)](https://colab.research.google.com/github/scpd-proed/XCS224W-Colab5/blob/main/Notebook/XCS224W_Colab5.ipynb)\n",
        "\n",
        "Before opening the colab with the badge, you would need to allow Google Colab to access the GitHub private repositories. Please check therefore [this tutorial](https://colab.research.google.com/github/googlecolab/colabtools/blob/master/notebooks/colab-github-demo.ipynb#:~:text=Navigate%20to%20http%3A%2F%2Fcolab,to%20read%20the%20private%20files.).\n",
        "\n",
        "If colab is opened with this badge, make sure please **save copy to drive** in 'File' menu before running the notebook."
      ]
    },
    {
      "cell_type": "markdown",
      "metadata": {
        "id": "8gzsP50bF6Gb"
      },
      "source": [
        "In this final Colab we will continue experimenting with advanced topics in GNNs. Specifically, we will look at different techniques for scaling up GNNs using PyTorch Geometric, DeepSNAP and NetworkX. In the previous Colab we worked with PyTorch Geometric's `NeighborSampler` to scale up training and testing on the OGB `arxiv` dataset and now we will be using DeepSNAP and NetworkX, to implement our own simplified version of `NeighborSampler` and run experiments with different sampling ratios on the Cora graph.\n",
        "\n",
        "Lastly, we will partition the Cora graph into clusters by using different partition algorithms and then train the models using a vanilla Cluster-GCN.\n",
        "\n",
        "**Note**: Make sure to **sequentially run all the cells in each section**, so that the intermediate variables / packages will carry over to the next cell"
      ]
    },
    {
      "cell_type": "markdown",
      "metadata": {
        "id": "MSaetj53YnT6"
      },
      "source": [
        "# Device\n",
        "You likely will want to us a GPU for this Colab.\n",
        "\n",
        "Please click `Runtime` and then `Change runtime type`. Then set the `hardware accelerator` to **GPU**."
      ]
    },
    {
      "cell_type": "markdown",
      "metadata": {
        "id": "OCK7krJdp4o8"
      },
      "source": [
        "# Setup\n",
        "As discussed in the first Colabs, the installation of PyG on Colab can be a little bit tricky. First let us check which version of PyTorch you are running.\n",
        "\n",
        "https://xcs224w.slack.com/archives/C07QUQUQX08/p1730187050788639\n",
        "\n",
        "the version of Pytorch available over Google Colab has been updated to 2.5.0, which is not yet supported by torch-scatter and torch-sparse packages. Therefore when working on Google Colab platform only, you would need to replace the following code: import torch import os print(\"PyTorch has version {}\".format(torch.version)) with the following: import os if 'IS_GRADESCOPE_ENV' not in os.environ: !pip install -f https://download.pytorch.org/whl/torch/ torch==2.4.0+cu121 import torch print(\"PyTorch has version {}\".format(torch.version)) to downgrade the PyTorch version to 2.4.0, which is the version set when preparing the cohort.\n"
      ]
    },
    {
      "cell_type": "code",
      "execution_count": 1,
      "metadata": {
        "colab": {
          "base_uri": "https://localhost:8080/"
        },
        "id": "2vkP8pA1qBE5",
        "outputId": "c8fdee64-1d23-49b9-b522-bbe65262a2ce"
      },
      "outputs": [
        {
          "output_type": "stream",
          "name": "stdout",
          "text": [
            "Looking in links: https://download.pytorch.org/whl/torch/\n",
            "Collecting torch==2.4.0+cu121\n",
            "  Downloading https://download.pytorch.org/whl/cu121_full/torch-2.4.0%2Bcu121-cp310-cp310-linux_x86_64.whl (2384.4 MB)\n",
            "\u001b[2K     \u001b[90m━━━━━━━━━━━━━━━━━━━━━━━━━━━━━━━━━━━━━━━━\u001b[0m \u001b[32m2.4/2.4 GB\u001b[0m \u001b[31m1.1 MB/s\u001b[0m eta \u001b[36m0:00:00\u001b[0m\n",
            "\u001b[?25hRequirement already satisfied: filelock in /usr/local/lib/python3.10/dist-packages (from torch==2.4.0+cu121) (3.16.1)\n",
            "Requirement already satisfied: typing-extensions>=4.8.0 in /usr/local/lib/python3.10/dist-packages (from torch==2.4.0+cu121) (4.12.2)\n",
            "Requirement already satisfied: sympy in /usr/local/lib/python3.10/dist-packages (from torch==2.4.0+cu121) (1.13.1)\n",
            "Requirement already satisfied: networkx in /usr/local/lib/python3.10/dist-packages (from torch==2.4.0+cu121) (3.4.2)\n",
            "Requirement already satisfied: jinja2 in /usr/local/lib/python3.10/dist-packages (from torch==2.4.0+cu121) (3.1.4)\n",
            "Requirement already satisfied: fsspec in /usr/local/lib/python3.10/dist-packages (from torch==2.4.0+cu121) (2024.10.0)\n",
            "Requirement already satisfied: MarkupSafe>=2.0 in /usr/local/lib/python3.10/dist-packages (from jinja2->torch==2.4.0+cu121) (3.0.2)\n",
            "Requirement already satisfied: mpmath<1.4,>=1.1.0 in /usr/local/lib/python3.10/dist-packages (from sympy->torch==2.4.0+cu121) (1.3.0)\n",
            "Installing collected packages: torch\n",
            "  Attempting uninstall: torch\n",
            "    Found existing installation: torch 2.5.1+cu121\n",
            "    Uninstalling torch-2.5.1+cu121:\n",
            "      Successfully uninstalled torch-2.5.1+cu121\n",
            "\u001b[31mERROR: pip's dependency resolver does not currently take into account all the packages that are installed. This behaviour is the source of the following dependency conflicts.\n",
            "torchaudio 2.5.1+cu121 requires torch==2.5.1, but you have torch 2.4.0+cu121 which is incompatible.\n",
            "torchvision 0.20.1+cu121 requires torch==2.5.1, but you have torch 2.4.0+cu121 which is incompatible.\u001b[0m\u001b[31m\n",
            "\u001b[0mSuccessfully installed torch-2.4.0+cu121\n",
            "PyTorch has version 2.4.0+cu121\n"
          ]
        }
      ],
      "source": [
        "import os\n",
        "if 'IS_GRADESCOPE_ENV' not in os.environ:\n",
        "    !pip install -f https://download.pytorch.org/whl/torch/ torch==2.4.0+cu121\n",
        "import torch\n",
        "print(\"PyTorch has version {}\".format(torch.__version__))"
      ]
    },
    {
      "cell_type": "markdown",
      "metadata": {
        "id": "67gOQITlCNQi"
      },
      "source": [
        "# Installation"
      ]
    },
    {
      "cell_type": "code",
      "execution_count": 2,
      "metadata": {
        "colab": {
          "base_uri": "https://localhost:8080/"
        },
        "id": "J_m9l6OYCQZP",
        "outputId": "7d423c91-de5a-40f8-ab96-aa2811a291b9"
      },
      "outputs": [
        {
          "output_type": "stream",
          "name": "stdout",
          "text": [
            "Looking in links: https://pytorch-geometric.com/whl/torch-2.4.0+cu121.html\n",
            "Collecting torch-scatter\n",
            "  Downloading https://data.pyg.org/whl/torch-2.4.0%2Bcu121/torch_scatter-2.1.2%2Bpt24cu121-cp310-cp310-linux_x86_64.whl (10.9 MB)\n",
            "\u001b[2K     \u001b[90m━━━━━━━━━━━━━━━━━━━━━━━━━━━━━━━━━━━━━━━━\u001b[0m \u001b[32m10.9/10.9 MB\u001b[0m \u001b[31m103.8 MB/s\u001b[0m eta \u001b[36m0:00:00\u001b[0m\n",
            "\u001b[?25hInstalling collected packages: torch-scatter\n",
            "Successfully installed torch-scatter-2.1.2+pt24cu121\n",
            "Looking in links: https://pytorch-geometric.com/whl/torch-2.4.0+cu121.html\n",
            "Collecting torch-sparse\n",
            "  Downloading https://data.pyg.org/whl/torch-2.4.0%2Bcu121/torch_sparse-0.6.18%2Bpt24cu121-cp310-cp310-linux_x86_64.whl (5.1 MB)\n",
            "\u001b[2K     \u001b[90m━━━━━━━━━━━━━━━━━━━━━━━━━━━━━━━━━━━━━━━━\u001b[0m \u001b[32m5.1/5.1 MB\u001b[0m \u001b[31m82.8 MB/s\u001b[0m eta \u001b[36m0:00:00\u001b[0m\n",
            "\u001b[?25hRequirement already satisfied: scipy in /usr/local/lib/python3.10/dist-packages (from torch-sparse) (1.13.1)\n",
            "Requirement already satisfied: numpy<2.3,>=1.22.4 in /usr/local/lib/python3.10/dist-packages (from scipy->torch-sparse) (1.26.4)\n",
            "Installing collected packages: torch-sparse\n",
            "Successfully installed torch-sparse-0.6.18+pt24cu121\n",
            "Collecting torch-geometric\n",
            "  Downloading torch_geometric-2.6.1-py3-none-any.whl.metadata (63 kB)\n",
            "\u001b[2K     \u001b[90m━━━━━━━━━━━━━━━━━━━━━━━━━━━━━━━━━━━━━━━━\u001b[0m \u001b[32m63.1/63.1 kB\u001b[0m \u001b[31m5.8 MB/s\u001b[0m eta \u001b[36m0:00:00\u001b[0m\n",
            "\u001b[?25hRequirement already satisfied: aiohttp in /usr/local/lib/python3.10/dist-packages (from torch-geometric) (3.11.10)\n",
            "Requirement already satisfied: fsspec in /usr/local/lib/python3.10/dist-packages (from torch-geometric) (2024.10.0)\n",
            "Requirement already satisfied: jinja2 in /usr/local/lib/python3.10/dist-packages (from torch-geometric) (3.1.4)\n",
            "Requirement already satisfied: numpy in /usr/local/lib/python3.10/dist-packages (from torch-geometric) (1.26.4)\n",
            "Requirement already satisfied: psutil>=5.8.0 in /usr/local/lib/python3.10/dist-packages (from torch-geometric) (5.9.5)\n",
            "Requirement already satisfied: pyparsing in /usr/local/lib/python3.10/dist-packages (from torch-geometric) (3.2.0)\n",
            "Requirement already satisfied: requests in /usr/local/lib/python3.10/dist-packages (from torch-geometric) (2.32.3)\n",
            "Requirement already satisfied: tqdm in /usr/local/lib/python3.10/dist-packages (from torch-geometric) (4.66.6)\n",
            "Requirement already satisfied: aiohappyeyeballs>=2.3.0 in /usr/local/lib/python3.10/dist-packages (from aiohttp->torch-geometric) (2.4.4)\n",
            "Requirement already satisfied: aiosignal>=1.1.2 in /usr/local/lib/python3.10/dist-packages (from aiohttp->torch-geometric) (1.3.1)\n",
            "Requirement already satisfied: async-timeout<6.0,>=4.0 in /usr/local/lib/python3.10/dist-packages (from aiohttp->torch-geometric) (4.0.3)\n",
            "Requirement already satisfied: attrs>=17.3.0 in /usr/local/lib/python3.10/dist-packages (from aiohttp->torch-geometric) (24.2.0)\n",
            "Requirement already satisfied: frozenlist>=1.1.1 in /usr/local/lib/python3.10/dist-packages (from aiohttp->torch-geometric) (1.5.0)\n",
            "Requirement already satisfied: multidict<7.0,>=4.5 in /usr/local/lib/python3.10/dist-packages (from aiohttp->torch-geometric) (6.1.0)\n",
            "Requirement already satisfied: propcache>=0.2.0 in /usr/local/lib/python3.10/dist-packages (from aiohttp->torch-geometric) (0.2.1)\n",
            "Requirement already satisfied: yarl<2.0,>=1.17.0 in /usr/local/lib/python3.10/dist-packages (from aiohttp->torch-geometric) (1.18.3)\n",
            "Requirement already satisfied: MarkupSafe>=2.0 in /usr/local/lib/python3.10/dist-packages (from jinja2->torch-geometric) (3.0.2)\n",
            "Requirement already satisfied: charset-normalizer<4,>=2 in /usr/local/lib/python3.10/dist-packages (from requests->torch-geometric) (3.4.0)\n",
            "Requirement already satisfied: idna<4,>=2.5 in /usr/local/lib/python3.10/dist-packages (from requests->torch-geometric) (3.10)\n",
            "Requirement already satisfied: urllib3<3,>=1.21.1 in /usr/local/lib/python3.10/dist-packages (from requests->torch-geometric) (2.2.3)\n",
            "Requirement already satisfied: certifi>=2017.4.17 in /usr/local/lib/python3.10/dist-packages (from requests->torch-geometric) (2024.8.30)\n",
            "Requirement already satisfied: typing-extensions>=4.1.0 in /usr/local/lib/python3.10/dist-packages (from multidict<7.0,>=4.5->aiohttp->torch-geometric) (4.12.2)\n",
            "Downloading torch_geometric-2.6.1-py3-none-any.whl (1.1 MB)\n",
            "\u001b[2K   \u001b[90m━━━━━━━━━━━━━━━━━━━━━━━━━━━━━━━━━━━━━━━━\u001b[0m \u001b[32m1.1/1.1 MB\u001b[0m \u001b[31m60.1 MB/s\u001b[0m eta \u001b[36m0:00:00\u001b[0m\n",
            "\u001b[?25hInstalling collected packages: torch-geometric\n",
            "Successfully installed torch-geometric-2.6.1\n",
            "\u001b[2K   \u001b[90m━━━━━━━━━━━━━━━━━━━━━━━━━━━━━━━━━━━━━━━━\u001b[0m \u001b[32m78.8/78.8 kB\u001b[0m \u001b[31m2.4 MB/s\u001b[0m eta \u001b[36m0:00:00\u001b[0m\n",
            "\u001b[?25h  Preparing metadata (setup.py) ... \u001b[?25l\u001b[?25hdone\n",
            "  Building wheel for deepsnap (setup.py) ... \u001b[?25l\u001b[?25hdone\n"
          ]
        }
      ],
      "source": [
        "# Install torch geometric\n",
        "import os\n",
        "if 'IS_GRADESCOPE_ENV' not in os.environ:\n",
        "  !pip install torch-scatter -f https://pytorch-geometric.com/whl/torch-2.4.0+cu121.html\n",
        "  !pip install torch-sparse -f https://pytorch-geometric.com/whl/torch-2.4.0+cu121.html\n",
        "  !pip install torch-geometric\n",
        "  !pip install -q ogb\n",
        "  # Fix for Deepsnap PyG 2.4.x compatibility issue (https://github.com/snap-stanford/deepsnap/issues/53)\n",
        "  !pip install -q git+https://github.com/SebastianHurubaru/deepsnap.git\n"
      ]
    },
    {
      "cell_type": "code",
      "execution_count": 3,
      "metadata": {
        "colab": {
          "base_uri": "https://localhost:8080/",
          "height": 35
        },
        "id": "PRfgbfTjCRD_",
        "outputId": "3b0e5cea-8131-4fae-e353-74d7d94feaf7"
      },
      "outputs": [
        {
          "output_type": "execute_result",
          "data": {
            "text/plain": [
              "'2.6.1'"
            ],
            "application/vnd.google.colaboratory.intrinsic+json": {
              "type": "string"
            }
          },
          "metadata": {},
          "execution_count": 3
        }
      ],
      "source": [
        "import torch_geometric\n",
        "torch_geometric.__version__"
      ]
    },
    {
      "cell_type": "markdown",
      "metadata": {
        "id": "WFb2OAvOSn_O"
      },
      "source": [
        "# 1) Neighbor Sampling with Different Ratios\n",
        "\n",
        "We will implement our own simplified version of Neighbor Sampling using DeepSNAP and NetworkX. Then we will use our sampler to train models with different neighborhood sampling ratios and compare their performance.\n",
        "\n",
        "To make our experiments faster, we will use the Cora graph."
      ]
    },
    {
      "cell_type": "markdown",
      "metadata": {
        "id": "P9U0F7bnSz9u"
      },
      "source": [
        "## Setup"
      ]
    },
    {
      "cell_type": "code",
      "execution_count": 4,
      "metadata": {
        "colab": {
          "base_uri": "https://localhost:8080/"
        },
        "id": "PUF4on-fSxcq",
        "outputId": "c7061cf1-7402-4572-cc34-afe994df9752"
      },
      "outputs": [
        {
          "output_type": "stream",
          "name": "stderr",
          "text": [
            "Downloading https://github.com/kimiyoung/planetoid/raw/master/data/ind.cora.x\n",
            "Downloading https://github.com/kimiyoung/planetoid/raw/master/data/ind.cora.tx\n",
            "Downloading https://github.com/kimiyoung/planetoid/raw/master/data/ind.cora.allx\n",
            "Downloading https://github.com/kimiyoung/planetoid/raw/master/data/ind.cora.y\n",
            "Downloading https://github.com/kimiyoung/planetoid/raw/master/data/ind.cora.ty\n",
            "Downloading https://github.com/kimiyoung/planetoid/raw/master/data/ind.cora.ally\n",
            "Downloading https://github.com/kimiyoung/planetoid/raw/master/data/ind.cora.graph\n",
            "Downloading https://github.com/kimiyoung/planetoid/raw/master/data/ind.cora.test.index\n",
            "Processing...\n",
            "Done!\n"
          ]
        }
      ],
      "source": [
        "import copy\n",
        "import torch\n",
        "import random\n",
        "import numpy as np\n",
        "import pandas as pd\n",
        "import networkx as nx\n",
        "import torch.nn as nn\n",
        "import torch.nn.functional as F\n",
        "\n",
        "from torch_geometric.nn import SAGEConv\n",
        "from torch.utils.data import DataLoader\n",
        "from torch_geometric.datasets import Planetoid\n",
        "from torch.nn import Sequential, Linear, ReLU\n",
        "from deepsnap.dataset import GraphDataset\n",
        "from deepsnap.graph import Graph\n",
        "\n",
        "if 'IS_GRADESCOPE_ENV' not in os.environ:\n",
        "  pyg_dataset = Planetoid('./tmp', \"Cora\")"
      ]
    },
    {
      "cell_type": "markdown",
      "metadata": {
        "id": "qw6k-KdFTEYw"
      },
      "source": [
        "## GNN Model\n",
        "\n",
        "We use a simple GraphSage GNN model, which we provide to you below. Similar to in section one, notice the slightly different implementations of the forward method depending on the data `mode`. When `mode = \"batch\"` we use Neighbor sampling. Thus, the data parameter contains our graph's node features (`x`) and a list `edge_indices` containing the connectivity of each GNN layer (i.e. an edge_index for each layer, defining the bipartite neighborhood computation graph).\n",
        "\n",
        "**NOTE:** Refer to sections *Neighbor Sampling* and *PyTorch Geometric Neighbor Sampler* from Colab4 for a detailed overview of the Neighbor Sampling technique."
      ]
    },
    {
      "cell_type": "code",
      "execution_count": 5,
      "metadata": {
        "id": "PvUlNi2TS09i"
      },
      "outputs": [],
      "source": [
        "class GNN(torch.nn.Module):\n",
        "    def __init__(self, input_dim, hidden_dim, output_dim, args):\n",
        "        super(GNN, self).__init__()\n",
        "        self.dropout = args['dropout']\n",
        "        self.num_layers = args['num_layers']\n",
        "\n",
        "        self.convs = nn.ModuleList()\n",
        "        self.bns = nn.ModuleList()\n",
        "\n",
        "        self.convs.append(SAGEConv(input_dim, hidden_dim))\n",
        "        self.bns.append(nn.BatchNorm1d(hidden_dim))\n",
        "\n",
        "        for l in range(self.num_layers - 2):\n",
        "            self.convs.append(SAGEConv(hidden_dim, hidden_dim))\n",
        "            self.bns.append(nn.BatchNorm1d(hidden_dim))\n",
        "        self.convs.append(SAGEConv(hidden_dim, hidden_dim))\n",
        "\n",
        "        self.post_mp = nn.Linear(hidden_dim, output_dim)\n",
        "\n",
        "    def forward(self, data, mode=\"batch\"):\n",
        "        # Observe the difference between mode == \"batch\" and mode == \"all\".\n",
        "        # In mode == \"batch\" we pass in an edge index for each conv layer\n",
        "        # corresponding to that layer's bipartite graph structure.\n",
        "        if mode == \"batch\":\n",
        "            edge_indices, x = data\n",
        "            for i in range(len(self.convs) - 1):\n",
        "                edge_index = edge_indices[i]\n",
        "                x = self.convs[i](x, edge_index)\n",
        "                x = self.bns[i](x)\n",
        "                x = F.relu(x)\n",
        "                x = F.dropout(x, p=self.dropout, training=self.training)\n",
        "            x = self.convs[-1](x, edge_indices[len(self.convs) - 1])\n",
        "        else:\n",
        "            x, edge_index = data.node_feature, data.edge_index\n",
        "            for i in range(len(self.convs) - 1):\n",
        "                x = self.convs[i](x, edge_index)\n",
        "                x = self.bns[i](x)\n",
        "                x = F.relu(x)\n",
        "                x = F.dropout(x, p=self.dropout, training=self.training)\n",
        "            x = self.convs[-1](x, edge_index)\n",
        "        x = self.post_mp(x)\n",
        "        x = F.log_softmax(x, dim=1)\n",
        "        return x"
      ]
    },
    {
      "cell_type": "markdown",
      "metadata": {
        "id": "Ulp1A3evcJ-I"
      },
      "source": [
        "## Implementing Neighbor Sampling\n",
        "\n",
        "Now let's take a stab at implementing our own basic version of Neighbor Sampling using DeepSNAP and NetworkX. To decompose the process, we will define several helper functions before finally defining our own `neighbor_sampling` function!\n",
        "\n",
        "**NOTE:** Before working through this section, we highly recommend reviewing sections `Neighbor Sampling` and `PyTorch Geometric Neighbor Sampler`. Specifically, it is important to understand how we explicitly define an `edge_index` for each GNN layer, representing the bipartite computation graph connecting the `target_nodes` that we are embedding for that layer to their relevant neighbors from the previous layer needed for message passing."
      ]
    },
    {
      "cell_type": "markdown",
      "metadata": {
        "id": "VWneVr3_Hj4n"
      },
      "source": [
        "## **Question 1.1a**: Implementing the `sample_neighbors` function. (5 points)"
      ]
    },
    {
      "cell_type": "code",
      "execution_count": 12,
      "metadata": {
        "colab": {
          "base_uri": "https://localhost:8080/"
        },
        "id": "V1TZXvJhHjRK",
        "outputId": "6583b6b4-d875-4bc3-e3a6-bcc41cf433cc"
      },
      "outputs": [
        {
          "output_type": "stream",
          "name": "stdout",
          "text": [
            "Index fields: train_mask ignored.\n",
            "Index fields: val_mask ignored.\n",
            "Index fields: test_mask ignored.\n",
            "Neighbors with ratio = 1: {1632, 1090, 1315, 1316, 1093, 970, 2444, 2642, 1271, 24, 927, 2140, 2367}\n",
            "Neighbors with ratio = 0.3: {970, 2140, 2367}\n",
            "Ratio of sampled neighbors: 0.23076923076923078\n"
          ]
        }
      ],
      "source": [
        "def sample_neighbors(nodes, G, ratio, all_nodes):\n",
        "    # TODO: Implement a function that takes as input a set of nodes,\n",
        "    # a NetworkX graph G, a neighbor sampling ratio, and a set containing all nodes\n",
        "    # and returns:\n",
        "    #   1. A set of the sampled nodes\n",
        "    #   2. A set union between `all_nodes` and the newly sampled neighbor nodes.\n",
        "    #      This allows us to track the nodes needed across all message passing layers.\n",
        "    #   3. The set of edges connecting the sampled neighboring nodes to our input\n",
        "    #      set of nodes. Represents a bi-partite graph between targets (nodes)\n",
        "    #      and source (neighbor) nodes.\n",
        "\n",
        "    neighbors = set()\n",
        "    edges = []\n",
        "\n",
        "    ############# Your code here ############\n",
        "    ## (~8-10 line of code)\n",
        "    ## Note:\n",
        "    ## 1. You will will need to sample neighbors from each node given to you in\n",
        "    ##    `nodes` list.\n",
        "    ##    Hint: Use graph `G` to assist in obtaining the neighbors of each node.\n",
        "    ## 2. The number of neighbors to be sampled based on the `ratio` parameter\n",
        "    ##    must be rounded **down** to get an integer value\n",
        "    ## 3. Randomly sample neighbors without replacement (i.e. the same neighbors\n",
        "    ##    should not be selected more than once for a given node)\n",
        "    ## 4. The neighbors are stored in a set data structure to ensure that duplicates\n",
        "    ##    are avoided.  This is useful as the set union will be taken with `all_nodes`.\n",
        "    ## 5. The edges list should contain all edges sampled in the form of a tuple\n",
        "    ##    of (neighbor, node)\n",
        "\n",
        "    for node in nodes:\n",
        "      neighbors_of_node = list(nx.neighbors(G, node))\n",
        "      if len(neighbors_of_node) > 0:\n",
        "        num_neighbors = int(len(neighbors_of_node) * ratio)\n",
        "        num_neighbors = max(num_neighbors, 1)  # Ensure at least 1 neighbor if ratio > 0\n",
        "        # Randomly sample neighbors without replacement\n",
        "        sampled_neighbors = random.sample(neighbors_of_node, min(num_neighbors, len(neighbors_of_node)))\n",
        "        for neighbor in sampled_neighbors:\n",
        "          neighbors.add(neighbor)\n",
        "          edges.append((neighbor, node))\n",
        "        num_neighbors = int(len(G[node]) * ratio)\n",
        "    ##########################################\n",
        "    return neighbors, neighbors.union(all_nodes), edges\n",
        "\n",
        "if 'IS_GRADESCOPE_ENV' not in os.environ:\n",
        "  graphs_train, _, _ = \\\n",
        "      GraphDataset.pyg_to_graphs(pyg_dataset, verbose=True, fixed_split=True)\n",
        "\n",
        "  graph_train = graphs_train[0]\n",
        "\n",
        "  nodes = [15, 16, 17]\n",
        "  neighbors_full, _, _ = sample_neighbors(nodes, graph_train.G, 1, set())\n",
        "  neighbors_sampled, _, _ = sample_neighbors(nodes, graph_train.G, 0.3, set())\n",
        "  print (\"Neighbors with ratio = 1:\", neighbors_full)\n",
        "  print (\"Neighbors with ratio = 0.3:\", neighbors_sampled)\n",
        "  # Note that this is not expected to be 0.3. Since we apply\n",
        "  # our sampling ratio for each node, the number of neighbors\n",
        "  # for each node may not evenly divide by the ratio\n",
        "  print (\"Ratio of sampled neighbors:\", len(neighbors_sampled) / len(neighbors_full))"
      ]
    },
    {
      "cell_type": "markdown",
      "metadata": {
        "id": "4NKNh4TEJ8_p"
      },
      "source": [
        "## Tensor transformation and node relabeling helper functions."
      ]
    },
    {
      "cell_type": "code",
      "execution_count": 13,
      "metadata": {
        "id": "H2PeBMJIJ9Tn"
      },
      "outputs": [],
      "source": [
        "def nodes_to_tensor(nodes):\n",
        "    \"\"\"\n",
        "      Transforms a set of nodes into a node index tensor.\n",
        "    \"\"\"\n",
        "\n",
        "    node_label_index = torch.tensor(list(nodes), dtype=torch.long)\n",
        "    return node_label_index\n",
        "\n",
        "\n",
        "def edges_to_tensor(edges):\n",
        "    \"\"\"\n",
        "      Transforms a list of undirected edges into the corresponding PyG\n",
        "      edge_index tensor representation. Notice that we explicitly make\n",
        "      sure to include both edge directions.\n",
        "    \"\"\"\n",
        "\n",
        "    edge_index = torch.tensor(list(edges), dtype=torch.long)\n",
        "    edge_index = torch.cat([edge_index, torch.flip(edge_index, [1])], dim=0)\n",
        "    edge_index = edge_index.permute(1, 0)\n",
        "\n",
        "    return edge_index\n",
        "\n",
        "def relabel(nodes, labeled_nodes, edges_list):\n",
        "    \"\"\"\n",
        "      Relabel nodes with 0 based indeces.\n",
        "\n",
        "      During the sampling process, we are likely to sample a list of\n",
        "      non-continuous node ids. However, our GNN models rely on continuous\n",
        "      0 based indexing to index into the rows of our node features matrix\n",
        "      based on edges in the graph (edge_index)\n",
        "    \"\"\"\n",
        "\n",
        "    relabeled_edges_list = []\n",
        "    sorted_nodes = sorted(nodes)\n",
        "    node_mapping = {node : i for i, node in enumerate(sorted_nodes)}\n",
        "    for orig_edges in edges_list:\n",
        "        relabeled_edges = []\n",
        "        for edge in orig_edges:\n",
        "            relabeled_edges.append((node_mapping[edge[0]], node_mapping[edge[1]]))\n",
        "        relabeled_edges_list.append(relabeled_edges)\n",
        "    relabeled_labeled_nodes = [node_mapping[node] for node in labeled_nodes]\n",
        "    relabeled_nodes = [node_mapping[node] for node in nodes]\n",
        "\n",
        "    return relabeled_edges_list, relabeled_nodes, relabeled_labeled_nodes, sorted_nodes\n"
      ]
    },
    {
      "cell_type": "markdown",
      "metadata": {
        "id": "El-2h_ApOJYP"
      },
      "source": [
        "## **Question 1.1b**: Putting it all together - Implementing our own Neighbor Sampling function. (4 points)\n",
        "\n",
        "Now that we've developed a better understanding of what the Neighbor Sampling function does, we will implement our own version of it. Instead of choosing $H_k$ number of samples at each layer, we will use a ratio of the number of neigbors that a givn node has. Can you think of the pros and cons of using a ratio of the number of neighbors for a node at different layers?  "
      ]
    },
    {
      "cell_type": "code",
      "execution_count": 16,
      "metadata": {
        "colab": {
          "base_uri": "https://localhost:8080/"
        },
        "id": "LI4qHkE4cQOh",
        "outputId": "0ca49069-a55d-4883-a35e-c9092237501b"
      },
      "outputs": [
        {
          "output_type": "stream",
          "name": "stdout",
          "text": [
            "Index fields: train_mask ignored.\n",
            "Index fields: val_mask ignored.\n",
            "Index fields: test_mask ignored.\n",
            "Sampled 1895 nodes, 3201 edges, 140 labeled nodes\n"
          ]
        }
      ],
      "source": [
        "def neighbor_sampling(graph, K=2, ratios=(0.1, 0.1, 0.1)):\n",
        "    # TODO: Implement a function that performs Neighbor Sampling on an input\n",
        "    # graph G for a K layer GNN. Notice that len(ratios) = K + 1. Ratios[-1]\n",
        "    # determines size of our mini-batch (i.e. the number of labeled\n",
        "    # nodes we sample computation graphs for).\n",
        "\n",
        "    assert K + 1 == len(ratios)\n",
        "\n",
        "    labeled_nodes = graph.node_label_index.tolist()\n",
        "    random.shuffle(labeled_nodes)\n",
        "    num = int(len(labeled_nodes) * ratios[-1])\n",
        "    if num > 0:\n",
        "        labeled_nodes = labeled_nodes[:num]\n",
        "    nodes_list = [set(labeled_nodes)]\n",
        "    edges_list = []\n",
        "    all_nodes = labeled_nodes\n",
        "\n",
        "    ############# Your code here ############\n",
        "    ## (~4-6 line of code)\n",
        "    ## Note:\n",
        "    ## 1. Using your previously defined `sample_neighbors` function, build up the\n",
        "    ##    edges_list for our K layer network.\n",
        "    ## 2. nodes_list is a list where nodes_list[i] is set of nodes used for message\n",
        "    ##    passing in layer i+1 of our GNN (i.e. level i in our computation graph).\n",
        "    ##    Notice, nodes_list[-1] represents the target nodes we want to\n",
        "    ##    embedd in the mini-batch.\n",
        "    ## 3. edge_list is a list of the bi-partite edge conections between layers\n",
        "    ##    in the computation graph.\n",
        "    ## 4. all_nodes is used to track all the nodes needed for message passing.\n",
        "    ## 5. Remember in a GNN, information flows from the base of the computation\n",
        "    ##    graph to the root. How does this affect the way we add to the nodes_list\n",
        "    ##    and edge_list, as well as how we read from ratios (ratios[-1]\n",
        "    ##    represents the root nodes in our computation graph)?\n",
        "    for k in range(K):\n",
        "      # gey nodes and edges from  previous layer\n",
        "      nodes, all_nodes, edges = sample_neighbors(nodes_list[-1], graph.G, ratios[len(ratios)-k-2], all_nodes)\n",
        "      nodes_list.append(nodes)\n",
        "      edges_list.append(edges)\n",
        "\n",
        "    nodes_list.reverse()\n",
        "    edges_list.reverse()\n",
        "    #########################################\n",
        "\n",
        "    relabeled_edges_list, relabeled_all_nodes, relabeled_labeled_nodes, sorted_original_nodes = \\\n",
        "        relabel(all_nodes, labeled_nodes, edges_list)\n",
        "\n",
        "    node_index = nodes_to_tensor(sorted_original_nodes)\n",
        "    # All node features that will be used\n",
        "    node_feature = graph.node_feature[node_index]\n",
        "    edge_indices = [edges_to_tensor(edges) for edges in relabeled_edges_list]\n",
        "    node_label_index = nodes_to_tensor(relabeled_labeled_nodes)\n",
        "    orig_node_label_index = nodes_to_tensor(labeled_nodes)\n",
        "    log = \"Sampled {} nodes, {} edges, {} labeled nodes\"\n",
        "    print(log.format(node_feature.shape[0], edge_indices[0].shape[1] // 2, node_label_index.shape[0]))\n",
        "    return node_feature, edge_indices, node_label_index, orig_node_label_index\n",
        "\n",
        "if 'IS_GRADESCOPE_ENV' not in os.environ:\n",
        "  # Need to define some basic test! Primarily to test whether they build\n",
        "  # in the correct reverse order. So ideally something like ratio = (0.3, 0.5, 0.8).\n",
        "  # Just need to check shapes.\n",
        "\n",
        "  graphs_train, _, _ = \\\n",
        "      GraphDataset.pyg_to_graphs(pyg_dataset, verbose=True, fixed_split=True)\n",
        "\n",
        "  graph_train = graphs_train[0]\n",
        "\n",
        "  node_feature, edge_indices, node_label_index, _ = neighbor_sampling(graph_train, K=3, ratios=(0.5, 0.8, 1, 1))"
      ]
    },
    {
      "cell_type": "markdown",
      "metadata": {
        "id": "ooy6Hcf7TIhI"
      },
      "source": [
        "## Training and Testing\n",
        "\n",
        "Additionally, notice that node classification task on Cora is a semi-supervised classification task, here we keep all the labeled training nodes (140 nodes) by setting the last ratio to 1."
      ]
    },
    {
      "cell_type": "code",
      "execution_count": 17,
      "metadata": {
        "id": "iSmZhpzPTGPY"
      },
      "outputs": [],
      "source": [
        "def train(train_graphs, val_graphs, args, model, optimizer, mode=\"batch\"):\n",
        "    best_val = 0\n",
        "    best_model = None\n",
        "    accs = []\n",
        "    graph_train = train_graphs[0]\n",
        "    graph_train.to(args['device'])\n",
        "    for epoch in range(1, 1 + args['epochs']):\n",
        "        model.train()\n",
        "        optimizer.zero_grad()\n",
        "        if mode == \"batch\":\n",
        "            node_feature, edge_indices, node_label_index, orig_node_index = neighbor_sampling(graph_train, args['num_layers'], args['ratios'])\n",
        "            node_feature = node_feature.to(args['device'])\n",
        "            node_label_index = node_label_index.to(args['device'])\n",
        "            for i in range(len(edge_indices)):\n",
        "                edge_indices[i] = edge_indices[i].to(args['device'])\n",
        "            pred = model([edge_indices, node_feature])\n",
        "            pred = pred[node_label_index]\n",
        "            label = graph_train.node_label[orig_node_index]\n",
        "        elif mode == \"community\":\n",
        "            graph = random.choice(train_graphs)\n",
        "            graph = graph.to(args['device'])\n",
        "            pred = model(graph, mode=\"all\")\n",
        "            pred = pred[graph.node_label_index]\n",
        "            label = graph.node_label[graph.node_label_index]\n",
        "        else:\n",
        "            pred = model(graph_train, mode=\"all\")\n",
        "            label = graph_train.node_label\n",
        "            pred = pred[graph_train.node_label_index]\n",
        "        loss = F.nll_loss(pred, label)\n",
        "        loss.backward()\n",
        "        optimizer.step()\n",
        "\n",
        "        train_acc, val_acc, test_acc = test(val_graphs, model)\n",
        "        accs.append((train_acc, val_acc, test_acc))\n",
        "        if val_acc > best_val:\n",
        "            best_val = val_acc\n",
        "            best_model = copy.deepcopy(model)\n",
        "        print(f'Epoch: {epoch:02d}, '\n",
        "              f'Loss: {loss:.4f}, '\n",
        "              f'Train: {100 * train_acc:.2f}%, '\n",
        "              f'Valid: {100 * val_acc:.2f}% '\n",
        "              f'Test: {100 * test_acc:.2f}%')\n",
        "    return best_model, accs\n",
        "\n",
        "def test(graphs, model, save_model_results=False, batch_type=\"batch\", title=None):\n",
        "    model.eval()\n",
        "    accs = []\n",
        "\n",
        "    for graph in graphs:\n",
        "        graph = graph.to(args['device'])\n",
        "        pred = model(graph, mode=\"all\")\n",
        "        label = graph.node_label\n",
        "        pred = pred[graph.node_label_index].max(1)[1]\n",
        "        acc = pred.eq(label).sum().item()\n",
        "        acc /= len(label)\n",
        "        accs.append(acc)\n",
        "\n",
        "    if save_model_results:\n",
        "      print (\"Saving Model Predictions for Model:\", batch_type, title)\n",
        "\n",
        "      data = {}\n",
        "      # The last dataset we test is the test graph\n",
        "      data['pred'] = pred.view(-1).cpu().detach().numpy()\n",
        "      data['label'] = label.view(-1).cpu().detach().numpy()\n",
        "\n",
        "      df = pd.DataFrame(data=data)\n",
        "      # Save locally as csv\n",
        "      file_name = 'CORA_Node_' + batch_type\n",
        "      if title is not None:\n",
        "        file_name = file_name + \"_\" + title\n",
        "\n",
        "      df.to_csv(file_name + '.csv', sep=',', index=False)\n",
        "\n",
        "    return accs"
      ]
    },
    {
      "cell_type": "code",
      "execution_count": 18,
      "metadata": {
        "id": "HV7i0v0ETKzf"
      },
      "outputs": [],
      "source": [
        "args = {\n",
        "    'device': torch.device('cuda' if torch.cuda.is_available() else 'cpu'),\n",
        "    'dropout': 0.5,\n",
        "    'num_layers': 2,\n",
        "    'hidden_size': 64,\n",
        "    'lr': 0.005,\n",
        "    'epochs': 50,\n",
        "    'ratios': (0.8, 0.8, 1),\n",
        "}"
      ]
    },
    {
      "cell_type": "code",
      "execution_count": 19,
      "metadata": {
        "id": "kfiKId8-iBj1"
      },
      "outputs": [],
      "source": [
        "def set_seed(seed=224):\n",
        "\n",
        "    random.seed(seed)\n",
        "    np.random.seed(seed)\n",
        "    torch.manual_seed(seed)\n",
        "    torch.backends.cudnn.benchmark = False"
      ]
    },
    {
      "cell_type": "markdown",
      "metadata": {
        "id": "rLpRYKbnTQnj"
      },
      "source": [
        "## Full-Batch Training\n",
        "\n",
        "As a baseline, we train our GNN model over the entire graph without any Neighbor Sampling."
      ]
    },
    {
      "cell_type": "code",
      "execution_count": 20,
      "metadata": {
        "colab": {
          "base_uri": "https://localhost:8080/"
        },
        "id": "pMGGjbJBTOo1",
        "outputId": "8250b0f1-a0e1-4296-f923-5168ea090bac"
      },
      "outputs": [
        {
          "output_type": "stream",
          "name": "stdout",
          "text": [
            "Index fields: train_mask ignored.\n",
            "Index fields: val_mask ignored.\n",
            "Index fields: test_mask ignored.\n",
            "Epoch: 01, Loss: 2.0228, Train: 65.00%, Valid: 29.20% Test: 35.30%\n",
            "Epoch: 02, Loss: 1.0957, Train: 97.86%, Valid: 54.40% Test: 58.60%\n",
            "Epoch: 03, Loss: 0.6141, Train: 100.00%, Valid: 68.60% Test: 70.30%\n",
            "Epoch: 04, Loss: 0.2814, Train: 100.00%, Valid: 74.00% Test: 74.00%\n",
            "Epoch: 05, Loss: 0.1553, Train: 100.00%, Valid: 75.60% Test: 75.50%\n",
            "Epoch: 06, Loss: 0.0629, Train: 100.00%, Valid: 76.20% Test: 76.00%\n",
            "Epoch: 07, Loss: 0.0454, Train: 100.00%, Valid: 77.00% Test: 76.10%\n",
            "Epoch: 08, Loss: 0.0232, Train: 100.00%, Valid: 77.40% Test: 76.50%\n",
            "Epoch: 09, Loss: 0.0108, Train: 100.00%, Valid: 77.20% Test: 76.40%\n",
            "Epoch: 10, Loss: 0.0120, Train: 100.00%, Valid: 77.00% Test: 76.20%\n",
            "Epoch: 11, Loss: 0.0047, Train: 100.00%, Valid: 76.60% Test: 76.30%\n",
            "Epoch: 12, Loss: 0.0061, Train: 100.00%, Valid: 76.40% Test: 76.10%\n",
            "Epoch: 13, Loss: 0.0046, Train: 100.00%, Valid: 76.20% Test: 76.10%\n",
            "Epoch: 14, Loss: 0.0012, Train: 100.00%, Valid: 76.20% Test: 76.10%\n",
            "Epoch: 15, Loss: 0.0049, Train: 100.00%, Valid: 75.80% Test: 75.90%\n",
            "Epoch: 16, Loss: 0.0019, Train: 100.00%, Valid: 75.80% Test: 75.70%\n",
            "Epoch: 17, Loss: 0.0006, Train: 100.00%, Valid: 75.20% Test: 75.80%\n",
            "Epoch: 18, Loss: 0.0013, Train: 100.00%, Valid: 75.20% Test: 75.80%\n",
            "Epoch: 19, Loss: 0.0003, Train: 100.00%, Valid: 75.00% Test: 75.70%\n",
            "Epoch: 20, Loss: 0.0005, Train: 100.00%, Valid: 75.00% Test: 75.60%\n",
            "Epoch: 21, Loss: 0.0003, Train: 100.00%, Valid: 75.20% Test: 75.60%\n",
            "Epoch: 22, Loss: 0.0001, Train: 100.00%, Valid: 75.20% Test: 75.30%\n",
            "Epoch: 23, Loss: 0.0005, Train: 100.00%, Valid: 75.00% Test: 75.40%\n",
            "Epoch: 24, Loss: 0.0004, Train: 100.00%, Valid: 74.80% Test: 75.20%\n",
            "Epoch: 25, Loss: 0.0001, Train: 100.00%, Valid: 74.80% Test: 75.10%\n",
            "Epoch: 26, Loss: 0.0002, Train: 100.00%, Valid: 74.80% Test: 75.10%\n",
            "Epoch: 27, Loss: 0.0005, Train: 100.00%, Valid: 74.80% Test: 75.30%\n",
            "Epoch: 28, Loss: 0.0002, Train: 100.00%, Valid: 74.80% Test: 75.10%\n",
            "Epoch: 29, Loss: 0.0007, Train: 100.00%, Valid: 75.00% Test: 75.20%\n",
            "Epoch: 30, Loss: 0.0001, Train: 100.00%, Valid: 75.00% Test: 75.30%\n",
            "Epoch: 31, Loss: 0.0007, Train: 100.00%, Valid: 75.00% Test: 75.20%\n",
            "Epoch: 32, Loss: 0.0000, Train: 100.00%, Valid: 75.00% Test: 75.00%\n",
            "Epoch: 33, Loss: 0.0001, Train: 100.00%, Valid: 75.00% Test: 75.20%\n",
            "Epoch: 34, Loss: 0.0000, Train: 100.00%, Valid: 75.00% Test: 75.20%\n",
            "Epoch: 35, Loss: 0.0001, Train: 100.00%, Valid: 75.00% Test: 75.20%\n",
            "Epoch: 36, Loss: 0.0000, Train: 100.00%, Valid: 74.80% Test: 75.20%\n",
            "Epoch: 37, Loss: 0.0000, Train: 100.00%, Valid: 74.60% Test: 75.40%\n",
            "Epoch: 38, Loss: 0.0000, Train: 100.00%, Valid: 74.60% Test: 75.40%\n",
            "Epoch: 39, Loss: 0.0001, Train: 100.00%, Valid: 74.60% Test: 75.40%\n",
            "Epoch: 40, Loss: 0.0000, Train: 100.00%, Valid: 74.60% Test: 75.40%\n",
            "Epoch: 41, Loss: 0.0002, Train: 100.00%, Valid: 74.20% Test: 75.10%\n",
            "Epoch: 42, Loss: 0.0002, Train: 100.00%, Valid: 74.40% Test: 74.90%\n",
            "Epoch: 43, Loss: 0.0000, Train: 100.00%, Valid: 74.60% Test: 75.00%\n",
            "Epoch: 44, Loss: 0.0000, Train: 100.00%, Valid: 74.60% Test: 75.00%\n",
            "Epoch: 45, Loss: 0.0001, Train: 100.00%, Valid: 74.60% Test: 74.90%\n",
            "Epoch: 46, Loss: 0.0000, Train: 100.00%, Valid: 74.40% Test: 74.80%\n",
            "Epoch: 47, Loss: 0.0001, Train: 100.00%, Valid: 74.40% Test: 74.80%\n",
            "Epoch: 48, Loss: 0.0007, Train: 100.00%, Valid: 74.40% Test: 74.90%\n",
            "Epoch: 49, Loss: 0.0001, Train: 100.00%, Valid: 74.40% Test: 74.80%\n",
            "Epoch: 50, Loss: 0.0000, Train: 100.00%, Valid: 74.40% Test: 74.80%\n",
            "Best model: Train: 100.00%, Valid: 77.40% Test: 76.50%\n"
          ]
        }
      ],
      "source": [
        "if 'IS_GRADESCOPE_ENV' not in os.environ:\n",
        "\n",
        "  set_seed()\n",
        "\n",
        "  graphs_train, graphs_val, graphs_test = \\\n",
        "      GraphDataset.pyg_to_graphs(pyg_dataset, verbose=True, fixed_split=True)\n",
        "\n",
        "  graph_train = graphs_train[0]\n",
        "  graph_val = graphs_val[0]\n",
        "  graph_test = graphs_test[0]\n",
        "\n",
        "  model = GNN(graph_train.num_node_features, args['hidden_size'], graph_train.num_node_labels, args).to(args['device'])\n",
        "\n",
        "  # Disable compile as this does not seem to work yet in PyTorch 2.0.1/PyG 2.3.1\n",
        "  # try:\n",
        "  #   model = torch_geometric.compile(model)\n",
        "  #   print(f\"GNN Model compiled\")\n",
        "  # except Exception as err:\n",
        "  #   print(f\"Model compile not supported: {err}\")\n",
        "\n",
        "  optimizer = torch.optim.Adam(model.parameters(), lr=args['lr'])\n",
        "  graphs = [graph_train, graph_val, graph_test]\n",
        "  all_best_model, all_accs = train(graphs, graphs, args, model, optimizer, mode=\"all\")\n",
        "  train_acc, val_acc, test_acc = test([graph_train, graph_val, graph_test], all_best_model)\n",
        "  print('Best model:',\n",
        "        f'Train: {100 * train_acc:.2f}%, '\n",
        "        f'Valid: {100 * val_acc:.2f}% '\n",
        "        f'Test: {100 * test_acc:.2f}%')"
      ]
    },
    {
      "cell_type": "markdown",
      "metadata": {
        "id": "JWkGiwB6Thr4"
      },
      "source": [
        "## **Question 1.2a:** What is the maximum test accuracy using samping ratios = (0.7, 0.9, 1)? (12 points)\n",
        "\n",
        "Running the cell below will show the results of your best model and save your best model's predictions to a file named CORA_Node_batch_(0.7, 0.9, 1).csv'.\n",
        "\n",
        "As we have seen before you can view this file by clicking on the Folder icon on the left side pannel. When you sumbit your assignment, you will have to download this file and attatch it to your submission."
      ]
    },
    {
      "cell_type": "code",
      "execution_count": 21,
      "metadata": {
        "colab": {
          "base_uri": "https://localhost:8080/"
        },
        "id": "yWusJ9u3Tfhv",
        "outputId": "cf4facb8-ec89-4165-cad0-838c0ee00244"
      },
      "outputs": [
        {
          "output_type": "stream",
          "name": "stdout",
          "text": [
            "Index fields: train_mask ignored.\n",
            "Index fields: val_mask ignored.\n",
            "Index fields: test_mask ignored.\n",
            "Sampled 1304 nodes, 1863 edges, 140 labeled nodes\n",
            "Epoch: 01, Loss: 2.0243, Train: 57.86%, Valid: 26.80% Test: 33.50%\n",
            "Sampled 1307 nodes, 1816 edges, 140 labeled nodes\n",
            "Epoch: 02, Loss: 1.2842, Train: 93.57%, Valid: 51.20% Test: 55.50%\n",
            "Sampled 1282 nodes, 1877 edges, 140 labeled nodes\n",
            "Epoch: 03, Loss: 0.7610, Train: 97.86%, Valid: 66.20% Test: 68.40%\n",
            "Sampled 1310 nodes, 1856 edges, 140 labeled nodes\n",
            "Epoch: 04, Loss: 0.4900, Train: 100.00%, Valid: 72.00% Test: 73.30%\n",
            "Sampled 1291 nodes, 1857 edges, 140 labeled nodes\n",
            "Epoch: 05, Loss: 0.3136, Train: 100.00%, Valid: 73.60% Test: 75.40%\n",
            "Sampled 1303 nodes, 1832 edges, 140 labeled nodes\n",
            "Epoch: 06, Loss: 0.1824, Train: 100.00%, Valid: 74.80% Test: 76.90%\n",
            "Sampled 1299 nodes, 1865 edges, 140 labeled nodes\n",
            "Epoch: 07, Loss: 0.0971, Train: 100.00%, Valid: 75.60% Test: 76.90%\n",
            "Sampled 1261 nodes, 1820 edges, 140 labeled nodes\n",
            "Epoch: 08, Loss: 0.0461, Train: 100.00%, Valid: 75.60% Test: 76.90%\n",
            "Sampled 1298 nodes, 1835 edges, 140 labeled nodes\n",
            "Epoch: 09, Loss: 0.0410, Train: 100.00%, Valid: 75.20% Test: 77.10%\n",
            "Sampled 1290 nodes, 1889 edges, 140 labeled nodes\n",
            "Epoch: 10, Loss: 0.0282, Train: 100.00%, Valid: 75.20% Test: 77.30%\n",
            "Sampled 1299 nodes, 1882 edges, 140 labeled nodes\n",
            "Epoch: 11, Loss: 0.0206, Train: 100.00%, Valid: 75.80% Test: 77.00%\n",
            "Sampled 1315 nodes, 1887 edges, 140 labeled nodes\n",
            "Epoch: 12, Loss: 0.0122, Train: 100.00%, Valid: 75.80% Test: 77.40%\n",
            "Sampled 1286 nodes, 1865 edges, 140 labeled nodes\n",
            "Epoch: 13, Loss: 0.0064, Train: 100.00%, Valid: 75.40% Test: 77.30%\n",
            "Sampled 1266 nodes, 1864 edges, 140 labeled nodes\n",
            "Epoch: 14, Loss: 0.0055, Train: 100.00%, Valid: 75.60% Test: 77.40%\n",
            "Sampled 1307 nodes, 1897 edges, 140 labeled nodes\n",
            "Epoch: 15, Loss: 0.0033, Train: 100.00%, Valid: 75.60% Test: 77.30%\n",
            "Sampled 1281 nodes, 1830 edges, 140 labeled nodes\n",
            "Epoch: 16, Loss: 0.0023, Train: 100.00%, Valid: 75.40% Test: 77.40%\n",
            "Sampled 1280 nodes, 1842 edges, 140 labeled nodes\n",
            "Epoch: 17, Loss: 0.0014, Train: 100.00%, Valid: 75.40% Test: 77.40%\n",
            "Sampled 1284 nodes, 1865 edges, 140 labeled nodes\n",
            "Epoch: 18, Loss: 0.0026, Train: 100.00%, Valid: 75.80% Test: 77.20%\n",
            "Sampled 1311 nodes, 1873 edges, 140 labeled nodes\n",
            "Epoch: 19, Loss: 0.0021, Train: 100.00%, Valid: 76.00% Test: 77.20%\n",
            "Sampled 1316 nodes, 1882 edges, 140 labeled nodes\n",
            "Epoch: 20, Loss: 0.0039, Train: 100.00%, Valid: 76.00% Test: 77.30%\n",
            "Sampled 1274 nodes, 1860 edges, 140 labeled nodes\n",
            "Epoch: 21, Loss: 0.0021, Train: 100.00%, Valid: 75.60% Test: 77.20%\n",
            "Sampled 1312 nodes, 1847 edges, 140 labeled nodes\n",
            "Epoch: 22, Loss: 0.0012, Train: 100.00%, Valid: 75.60% Test: 77.40%\n",
            "Sampled 1290 nodes, 1884 edges, 140 labeled nodes\n",
            "Epoch: 23, Loss: 0.0015, Train: 100.00%, Valid: 75.60% Test: 77.40%\n",
            "Sampled 1251 nodes, 1843 edges, 140 labeled nodes\n",
            "Epoch: 24, Loss: 0.0003, Train: 100.00%, Valid: 75.60% Test: 77.20%\n",
            "Sampled 1299 nodes, 1871 edges, 140 labeled nodes\n",
            "Epoch: 25, Loss: 0.0017, Train: 100.00%, Valid: 75.40% Test: 77.20%\n",
            "Sampled 1280 nodes, 1855 edges, 140 labeled nodes\n",
            "Epoch: 26, Loss: 0.0006, Train: 100.00%, Valid: 75.60% Test: 77.10%\n",
            "Sampled 1336 nodes, 1902 edges, 140 labeled nodes\n",
            "Epoch: 27, Loss: 0.0015, Train: 100.00%, Valid: 75.60% Test: 77.00%\n",
            "Sampled 1272 nodes, 1858 edges, 140 labeled nodes\n",
            "Epoch: 28, Loss: 0.0003, Train: 100.00%, Valid: 75.40% Test: 77.00%\n",
            "Sampled 1289 nodes, 1870 edges, 140 labeled nodes\n",
            "Epoch: 29, Loss: 0.0011, Train: 100.00%, Valid: 75.40% Test: 77.00%\n",
            "Sampled 1293 nodes, 1864 edges, 140 labeled nodes\n",
            "Epoch: 30, Loss: 0.0001, Train: 100.00%, Valid: 75.40% Test: 77.00%\n",
            "Sampled 1271 nodes, 1833 edges, 140 labeled nodes\n",
            "Epoch: 31, Loss: 0.0007, Train: 100.00%, Valid: 75.20% Test: 76.90%\n",
            "Sampled 1289 nodes, 1876 edges, 140 labeled nodes\n",
            "Epoch: 32, Loss: 0.0001, Train: 100.00%, Valid: 75.00% Test: 76.90%\n",
            "Sampled 1298 nodes, 1858 edges, 140 labeled nodes\n",
            "Epoch: 33, Loss: 0.0004, Train: 100.00%, Valid: 75.00% Test: 77.00%\n",
            "Sampled 1303 nodes, 1852 edges, 140 labeled nodes\n",
            "Epoch: 34, Loss: 0.0005, Train: 100.00%, Valid: 75.00% Test: 76.90%\n",
            "Sampled 1272 nodes, 1826 edges, 140 labeled nodes\n",
            "Epoch: 35, Loss: 0.0006, Train: 100.00%, Valid: 74.80% Test: 76.90%\n",
            "Sampled 1274 nodes, 1850 edges, 140 labeled nodes\n",
            "Epoch: 36, Loss: 0.0002, Train: 100.00%, Valid: 75.20% Test: 77.10%\n",
            "Sampled 1273 nodes, 1805 edges, 140 labeled nodes\n",
            "Epoch: 37, Loss: 0.0003, Train: 100.00%, Valid: 75.20% Test: 77.20%\n",
            "Sampled 1314 nodes, 1852 edges, 140 labeled nodes\n",
            "Epoch: 38, Loss: 0.0010, Train: 100.00%, Valid: 75.00% Test: 77.30%\n",
            "Sampled 1307 nodes, 1905 edges, 140 labeled nodes\n",
            "Epoch: 39, Loss: 0.0005, Train: 100.00%, Valid: 75.00% Test: 77.30%\n",
            "Sampled 1308 nodes, 1876 edges, 140 labeled nodes\n",
            "Epoch: 40, Loss: 0.0004, Train: 100.00%, Valid: 74.80% Test: 77.30%\n",
            "Sampled 1293 nodes, 1892 edges, 140 labeled nodes\n",
            "Epoch: 41, Loss: 0.0004, Train: 100.00%, Valid: 74.80% Test: 77.30%\n",
            "Sampled 1299 nodes, 1878 edges, 140 labeled nodes\n",
            "Epoch: 42, Loss: 0.0014, Train: 100.00%, Valid: 74.60% Test: 77.20%\n",
            "Sampled 1298 nodes, 1844 edges, 140 labeled nodes\n",
            "Epoch: 43, Loss: 0.0001, Train: 100.00%, Valid: 74.60% Test: 77.30%\n",
            "Sampled 1320 nodes, 1904 edges, 140 labeled nodes\n",
            "Epoch: 44, Loss: 0.0005, Train: 100.00%, Valid: 74.60% Test: 77.30%\n",
            "Sampled 1265 nodes, 1865 edges, 140 labeled nodes\n",
            "Epoch: 45, Loss: 0.0007, Train: 100.00%, Valid: 74.80% Test: 77.30%\n",
            "Sampled 1299 nodes, 1888 edges, 140 labeled nodes\n",
            "Epoch: 46, Loss: 0.0003, Train: 100.00%, Valid: 75.00% Test: 77.30%\n",
            "Sampled 1279 nodes, 1871 edges, 140 labeled nodes\n",
            "Epoch: 47, Loss: 0.0007, Train: 100.00%, Valid: 74.80% Test: 77.30%\n",
            "Sampled 1316 nodes, 1893 edges, 140 labeled nodes\n",
            "Epoch: 48, Loss: 0.0005, Train: 100.00%, Valid: 74.80% Test: 77.40%\n",
            "Sampled 1302 nodes, 1909 edges, 140 labeled nodes\n",
            "Epoch: 49, Loss: 0.0004, Train: 100.00%, Valid: 74.80% Test: 77.30%\n",
            "Sampled 1280 nodes, 1835 edges, 140 labeled nodes\n",
            "Epoch: 50, Loss: 0.0004, Train: 100.00%, Valid: 74.80% Test: 77.10%\n",
            "Saving Model Predictions for Model: batch (0.7,0.9,1)\n",
            "Best model: Train: 100.00%, Valid: 76.00% Test: 77.20%\n"
          ]
        }
      ],
      "source": [
        "if 'IS_GRADESCOPE_ENV' not in os.environ:\n",
        "\n",
        "  set_seed()\n",
        "\n",
        "  args['ratios'] = (0.7, 0.9, 1)\n",
        "\n",
        "  graphs_train, graphs_val, graphs_test = \\\n",
        "      GraphDataset.pyg_to_graphs(pyg_dataset, verbose=True, fixed_split=True)\n",
        "\n",
        "  graph_train = graphs_train[0]\n",
        "  graph_val = graphs_val[0]\n",
        "  graph_test = graphs_test[0]\n",
        "\n",
        "  model = GNN(graph_train.num_node_features, args['hidden_size'], graph_train.num_node_labels, args).to(args['device'])\n",
        "\n",
        "  # Disable compile as this does not seem to work yet in PyTorch 2.0.1/PyG 2.3.1\n",
        "  # try:\n",
        "  #   model = torch_geometric.compile(model)\n",
        "  #   print(f\"GNN Model compiled\")\n",
        "  # except Exception as err:\n",
        "  #   print(f\"Model compile not supported: {err}\")\n",
        "\n",
        "  optimizer = torch.optim.Adam(model.parameters(), lr=args['lr'])\n",
        "  graphs = [graph_train, graph_val, graph_test]\n",
        "  batch_best_model, batch_accs = train(graphs, graphs, args, model, optimizer)\n",
        "  train_acc, val_acc, test_acc = test([graph_train, graph_val, graph_test], batch_best_model, save_model_results=True, batch_type=\"batch\", title=\"(0.7,0.9,1)\")\n",
        "  print('Best model:',\n",
        "        f'Train: {100 * train_acc:.2f}%, '\n",
        "        f'Valid: {100 * val_acc:.2f}% '\n",
        "        f'Test: {100 * test_acc:.2f}%')"
      ]
    },
    {
      "cell_type": "markdown",
      "metadata": {
        "id": "w_FjkNHDT4c6"
      },
      "source": [
        "## **Question 1.2b:** What is the maximum test accuracy using samping ratios = (0.3, 0.5, 1)? (12 points)\n",
        "\n",
        "Running the cell below will show the results of your best model and save your best model's predictions to a file named CORA_Node_batch_(0.3, 0.5, 1).csv'.\n",
        "\n",
        "As we have seen before you can view this file by clicking on the Folder icon on the left side pannel. When you submit your assignment, you will have to download this file and attach it to your submission."
      ]
    },
    {
      "cell_type": "code",
      "execution_count": 22,
      "metadata": {
        "colab": {
          "base_uri": "https://localhost:8080/"
        },
        "id": "booJ6DASTjO4",
        "outputId": "e89ec627-63bc-4d44-a3f6-1f11437f1016"
      },
      "outputs": [
        {
          "output_type": "stream",
          "name": "stdout",
          "text": [
            "Index fields: train_mask ignored.\n",
            "Index fields: val_mask ignored.\n",
            "Index fields: test_mask ignored.\n",
            "Sampled 705 nodes, 551 edges, 140 labeled nodes\n",
            "Epoch: 01, Loss: 1.9968, Train: 51.43%, Valid: 19.80% Test: 25.40%\n",
            "Sampled 716 nodes, 554 edges, 140 labeled nodes\n",
            "Epoch: 02, Loss: 1.4612, Train: 85.71%, Valid: 39.20% Test: 45.80%\n",
            "Sampled 721 nodes, 579 edges, 140 labeled nodes\n",
            "Epoch: 03, Loss: 0.9672, Train: 97.14%, Valid: 55.40% Test: 58.70%\n",
            "Sampled 714 nodes, 559 edges, 140 labeled nodes\n",
            "Epoch: 04, Loss: 0.6747, Train: 100.00%, Valid: 64.80% Test: 65.00%\n",
            "Sampled 728 nodes, 574 edges, 140 labeled nodes\n",
            "Epoch: 05, Loss: 0.4435, Train: 100.00%, Valid: 68.80% Test: 69.30%\n",
            "Sampled 726 nodes, 560 edges, 140 labeled nodes\n",
            "Epoch: 06, Loss: 0.2960, Train: 100.00%, Valid: 71.80% Test: 71.00%\n",
            "Sampled 700 nodes, 557 edges, 140 labeled nodes\n",
            "Epoch: 07, Loss: 0.1989, Train: 100.00%, Valid: 73.00% Test: 73.10%\n",
            "Sampled 727 nodes, 559 edges, 140 labeled nodes\n",
            "Epoch: 08, Loss: 0.1247, Train: 100.00%, Valid: 74.20% Test: 74.90%\n",
            "Sampled 727 nodes, 581 edges, 140 labeled nodes\n",
            "Epoch: 09, Loss: 0.1000, Train: 100.00%, Valid: 75.00% Test: 75.30%\n",
            "Sampled 716 nodes, 564 edges, 140 labeled nodes\n",
            "Epoch: 10, Loss: 0.0715, Train: 100.00%, Valid: 75.80% Test: 75.80%\n",
            "Sampled 716 nodes, 547 edges, 140 labeled nodes\n",
            "Epoch: 11, Loss: 0.0365, Train: 100.00%, Valid: 76.20% Test: 76.00%\n",
            "Sampled 695 nodes, 557 edges, 140 labeled nodes\n",
            "Epoch: 12, Loss: 0.0226, Train: 100.00%, Valid: 76.20% Test: 75.90%\n",
            "Sampled 737 nodes, 577 edges, 140 labeled nodes\n",
            "Epoch: 13, Loss: 0.0258, Train: 100.00%, Valid: 76.00% Test: 75.90%\n",
            "Sampled 738 nodes, 553 edges, 140 labeled nodes\n",
            "Epoch: 14, Loss: 0.0079, Train: 100.00%, Valid: 75.80% Test: 75.60%\n",
            "Sampled 735 nodes, 555 edges, 140 labeled nodes\n",
            "Epoch: 15, Loss: 0.0162, Train: 100.00%, Valid: 76.20% Test: 75.90%\n",
            "Sampled 717 nodes, 566 edges, 140 labeled nodes\n",
            "Epoch: 16, Loss: 0.0068, Train: 100.00%, Valid: 76.20% Test: 75.90%\n",
            "Sampled 698 nodes, 544 edges, 140 labeled nodes\n",
            "Epoch: 17, Loss: 0.0094, Train: 100.00%, Valid: 76.60% Test: 75.70%\n",
            "Sampled 698 nodes, 550 edges, 140 labeled nodes\n",
            "Epoch: 18, Loss: 0.0193, Train: 100.00%, Valid: 77.00% Test: 76.20%\n",
            "Sampled 726 nodes, 554 edges, 140 labeled nodes\n",
            "Epoch: 19, Loss: 0.0069, Train: 100.00%, Valid: 76.80% Test: 76.60%\n",
            "Sampled 724 nodes, 548 edges, 140 labeled nodes\n",
            "Epoch: 20, Loss: 0.0094, Train: 100.00%, Valid: 76.40% Test: 76.50%\n",
            "Sampled 705 nodes, 542 edges, 140 labeled nodes\n",
            "Epoch: 21, Loss: 0.0077, Train: 100.00%, Valid: 76.60% Test: 76.70%\n",
            "Sampled 725 nodes, 569 edges, 140 labeled nodes\n",
            "Epoch: 22, Loss: 0.0025, Train: 100.00%, Valid: 76.60% Test: 76.90%\n",
            "Sampled 707 nodes, 551 edges, 140 labeled nodes\n",
            "Epoch: 23, Loss: 0.0047, Train: 100.00%, Valid: 76.40% Test: 76.90%\n",
            "Sampled 748 nodes, 603 edges, 140 labeled nodes\n",
            "Epoch: 24, Loss: 0.0019, Train: 100.00%, Valid: 76.40% Test: 76.80%\n",
            "Sampled 708 nodes, 561 edges, 140 labeled nodes\n",
            "Epoch: 25, Loss: 0.0008, Train: 100.00%, Valid: 75.80% Test: 76.90%\n",
            "Sampled 730 nodes, 570 edges, 140 labeled nodes\n",
            "Epoch: 26, Loss: 0.0022, Train: 100.00%, Valid: 75.80% Test: 76.90%\n",
            "Sampled 737 nodes, 586 edges, 140 labeled nodes\n",
            "Epoch: 27, Loss: 0.0046, Train: 100.00%, Valid: 75.80% Test: 77.00%\n",
            "Sampled 735 nodes, 563 edges, 140 labeled nodes\n",
            "Epoch: 28, Loss: 0.0016, Train: 100.00%, Valid: 75.80% Test: 77.20%\n",
            "Sampled 693 nodes, 559 edges, 140 labeled nodes\n",
            "Epoch: 29, Loss: 0.0003, Train: 100.00%, Valid: 75.80% Test: 77.20%\n",
            "Sampled 732 nodes, 596 edges, 140 labeled nodes\n",
            "Epoch: 30, Loss: 0.0004, Train: 100.00%, Valid: 75.80% Test: 77.30%\n",
            "Sampled 723 nodes, 568 edges, 140 labeled nodes\n",
            "Epoch: 31, Loss: 0.0011, Train: 100.00%, Valid: 75.80% Test: 77.30%\n",
            "Sampled 719 nodes, 551 edges, 140 labeled nodes\n",
            "Epoch: 32, Loss: 0.0008, Train: 100.00%, Valid: 76.00% Test: 77.60%\n",
            "Sampled 712 nodes, 568 edges, 140 labeled nodes\n",
            "Epoch: 33, Loss: 0.0014, Train: 100.00%, Valid: 76.00% Test: 77.50%\n",
            "Sampled 686 nodes, 523 edges, 140 labeled nodes\n",
            "Epoch: 34, Loss: 0.0009, Train: 100.00%, Valid: 76.20% Test: 77.40%\n",
            "Sampled 703 nodes, 558 edges, 140 labeled nodes\n",
            "Epoch: 35, Loss: 0.0082, Train: 100.00%, Valid: 76.20% Test: 77.20%\n",
            "Sampled 699 nodes, 533 edges, 140 labeled nodes\n",
            "Epoch: 36, Loss: 0.0004, Train: 100.00%, Valid: 76.20% Test: 77.20%\n",
            "Sampled 721 nodes, 536 edges, 140 labeled nodes\n",
            "Epoch: 37, Loss: 0.0020, Train: 100.00%, Valid: 76.20% Test: 77.20%\n",
            "Sampled 734 nodes, 570 edges, 140 labeled nodes\n",
            "Epoch: 38, Loss: 0.0021, Train: 100.00%, Valid: 76.20% Test: 77.20%\n",
            "Sampled 717 nodes, 554 edges, 140 labeled nodes\n",
            "Epoch: 39, Loss: 0.0015, Train: 100.00%, Valid: 76.20% Test: 77.30%\n",
            "Sampled 719 nodes, 563 edges, 140 labeled nodes\n",
            "Epoch: 40, Loss: 0.0009, Train: 100.00%, Valid: 76.20% Test: 77.40%\n",
            "Sampled 720 nodes, 559 edges, 140 labeled nodes\n",
            "Epoch: 41, Loss: 0.0020, Train: 100.00%, Valid: 76.20% Test: 77.70%\n",
            "Sampled 738 nodes, 583 edges, 140 labeled nodes\n",
            "Epoch: 42, Loss: 0.0002, Train: 100.00%, Valid: 76.20% Test: 77.70%\n",
            "Sampled 751 nodes, 570 edges, 140 labeled nodes\n",
            "Epoch: 43, Loss: 0.0154, Train: 100.00%, Valid: 76.40% Test: 77.50%\n",
            "Sampled 708 nodes, 543 edges, 140 labeled nodes\n",
            "Epoch: 44, Loss: 0.0002, Train: 100.00%, Valid: 76.20% Test: 77.50%\n",
            "Sampled 729 nodes, 574 edges, 140 labeled nodes\n",
            "Epoch: 45, Loss: 0.0026, Train: 100.00%, Valid: 76.20% Test: 77.70%\n",
            "Sampled 706 nodes, 557 edges, 140 labeled nodes\n",
            "Epoch: 46, Loss: 0.0002, Train: 100.00%, Valid: 76.20% Test: 77.60%\n",
            "Sampled 698 nodes, 532 edges, 140 labeled nodes\n",
            "Epoch: 47, Loss: 0.0039, Train: 100.00%, Valid: 76.20% Test: 77.60%\n",
            "Sampled 736 nodes, 579 edges, 140 labeled nodes\n",
            "Epoch: 48, Loss: 0.0005, Train: 100.00%, Valid: 76.00% Test: 77.60%\n",
            "Sampled 720 nodes, 545 edges, 140 labeled nodes\n",
            "Epoch: 49, Loss: 0.0007, Train: 100.00%, Valid: 76.20% Test: 77.30%\n",
            "Sampled 704 nodes, 548 edges, 140 labeled nodes\n",
            "Epoch: 50, Loss: 0.0115, Train: 100.00%, Valid: 76.20% Test: 77.10%\n",
            "Saving Model Predictions for Model: batch (0.3,0.5,1)\n",
            "Best model: Train: 100.00%, Valid: 77.00% Test: 76.20%\n"
          ]
        }
      ],
      "source": [
        "if 'IS_GRADESCOPE_ENV' not in os.environ:\n",
        "\n",
        "  set_seed()\n",
        "\n",
        "  # Change the ratio to 0.3\n",
        "  args['ratios'] = (0.3, 0.5, 1)\n",
        "\n",
        "  graphs_train, graphs_val, graphs_test = \\\n",
        "      GraphDataset.pyg_to_graphs(pyg_dataset, verbose=True, fixed_split=True)\n",
        "\n",
        "  graph_train = graphs_train[0]\n",
        "  graph_val = graphs_val[0]\n",
        "  graph_test = graphs_test[0]\n",
        "\n",
        "  model = GNN(graph_train.num_node_features, args['hidden_size'], graph_train.num_node_labels, args).to(args['device'])\n",
        "\n",
        "  # Disable compile as this does not seem to work yet in PyTorch 2.0.1/PyG 2.3.1\n",
        "  # try:\n",
        "  #   model = torch_geometric.compile(model)\n",
        "  #   print(f\"GNN Model compiled\")\n",
        "  # except Exception as err:\n",
        "  #   print(f\"Model compile not supported: {err}\")\n",
        "\n",
        "  optimizer = torch.optim.Adam(model.parameters(), lr=args['lr'])\n",
        "  graphs = [graph_train, graph_val, graph_test]\n",
        "  batch_best_model, batch_accs_1 = train(graphs, graphs, args, model, optimizer)\n",
        "  train_acc, val_acc, test_acc = test([graph_train, graph_val, graph_test], batch_best_model, save_model_results=True, batch_type=\"batch\", title=\"(0.3,0.5,1)\")\n",
        "  print('Best model:',\n",
        "        f'Train: {100 * train_acc:.2f}%, '\n",
        "        f'Valid: {100 * val_acc:.2f}% '\n",
        "        f'Test: {100 * test_acc:.2f}%')"
      ]
    },
    {
      "cell_type": "markdown",
      "metadata": {
        "id": "EePAvNlGUM2K"
      },
      "source": [
        "## Visualization"
      ]
    },
    {
      "cell_type": "code",
      "execution_count": 23,
      "metadata": {
        "colab": {
          "base_uri": "https://localhost:8080/",
          "height": 641
        },
        "id": "7etNAkXAT55d",
        "outputId": "b7327eb2-be81-401b-e09f-f96620faa50d"
      },
      "outputs": [
        {
          "output_type": "display_data",
          "data": {
            "text/plain": [
              "<Figure size 900x700 with 1 Axes>"
            ],
            "image/png": "[encoded data removed]"
          },
          "metadata": {}
        }
      ],
      "source": [
        "import numpy as np\n",
        "from matplotlib import pyplot as plt\n",
        "\n",
        "if 'IS_GRADESCOPE_ENV' not in os.environ:\n",
        "  batch_results = np.array(batch_accs)\n",
        "  batch_results_1 = np.array(batch_accs_1)\n",
        "  all_results = np.array(all_accs)\n",
        "\n",
        "  x = np.arange(1, 51)\n",
        "\n",
        "  plt.figure(figsize=(9, 7))\n",
        "\n",
        "  plt.plot(x, batch_results[:, 0], label=\"Batch 0.8 Train\")\n",
        "  plt.plot(x, batch_results[:, 1], label=\"Batch 0.8 Validation\")\n",
        "  plt.plot(x, batch_results[:, 2], label=\"Batch 0.8 Test\")\n",
        "  plt.plot(x, batch_results_1[:, 0], label=\"Batch 0.3 Train\")\n",
        "  plt.plot(x, batch_results_1[:, 1], label=\"Batch 0.3 Validation\")\n",
        "  plt.plot(x, batch_results_1[:, 2], label=\"Batch 0.3 Test\")\n",
        "  plt.plot(x, all_results[:, 0], label=\"All Train\")\n",
        "  plt.plot(x, all_results[:, 1], label=\"All Validation\")\n",
        "  plt.plot(x, all_results[:, 2], label=\"All Test\")\n",
        "  plt.title('Model Accuracy')\n",
        "  plt.ylabel('Accuracy')\n",
        "  plt.xlabel('Epoch')\n",
        "  plt.legend()\n",
        "  plt.show()"
      ]
    },
    {
      "cell_type": "markdown",
      "metadata": {
        "id": "bkA7-0groq7q"
      },
      "source": [
        "**NOTE:** We always evaluate accuracy in full-batch mode. Namely, only during training do we use neighborhood sub-sampling. We do this for a couple reason: 1) fairness of comparison, 2) we worry most about computational cost during training as compared to evaluation, and 3) during the inference phase we want to leverage as much neighborhood information as possible!  "
      ]
    },
    {
      "cell_type": "markdown",
      "metadata": {
        "id": "Iee0U8KGURc8"
      },
      "source": [
        "# 2) Cluster Sampling\n",
        "\n",
        "As discussed in Module 7.2, we can also use subgraph (cluster) sampling to scale up GNN. Specifically, we will explore the methods proposed in Cluster-GCN ([Chiang et al. (2019)](https://arxiv.org/abs/1905.07953)), where we break our graph into smaller subgraphs to avoid the computational cost of training on the entire graph at once.\n",
        "\n",
        "In this final section, we will implement a vanilla Cluster-GCN and experiment with 3 different community partition algorithms.\n",
        "\n",
        "**NOTE:** the code in this section requires that you have run the `Setup`, `GNN Model` and `Training and Testing` cells of section 2."
      ]
    },
    {
      "cell_type": "markdown",
      "metadata": {
        "id": "_BXjP79gUYir"
      },
      "source": [
        "## Setup"
      ]
    },
    {
      "cell_type": "code",
      "execution_count": 24,
      "metadata": {
        "id": "UGQ_VKp8UOEm"
      },
      "outputs": [],
      "source": [
        "import copy\n",
        "import torch\n",
        "import random\n",
        "import numpy as np\n",
        "import networkx as nx\n",
        "import torch.nn as nn\n",
        "import pandas as pd\n",
        "import torch.nn.functional as F\n",
        "import community.community_louvain as community_louvain\n",
        "\n",
        "from torch_geometric.nn import SAGEConv\n",
        "from torch.utils.data import DataLoader\n",
        "from torch_geometric.datasets import Planetoid\n",
        "from torch.nn import Sequential, Linear, ReLU\n",
        "from deepsnap.dataset import GraphDataset\n",
        "from deepsnap.graph import Graph\n",
        "\n",
        "if 'IS_GRADESCOPE_ENV' not in os.environ:\n",
        "  pyg_dataset = Planetoid('./tmp', \"Cora\")"
      ]
    },
    {
      "cell_type": "code",
      "execution_count": 25,
      "metadata": {
        "id": "bzMatyCSUaB6"
      },
      "outputs": [],
      "source": [
        "args = {\n",
        "    'device': torch.device('cuda' if torch.cuda.is_available() else 'cpu'),\n",
        "    'dropout': 0.5,\n",
        "    'num_layers': 2,\n",
        "    'hidden_size': 64,\n",
        "    'lr': 0.005,\n",
        "    'epochs': 150,\n",
        "}"
      ]
    },
    {
      "cell_type": "markdown",
      "metadata": {
        "id": "ekV-sokSUeLc"
      },
      "source": [
        "## Partitioning the Graph into Clusters\n",
        "\n",
        "We will experiment with three community detection / partition algorithms to partition our graph into different clusters:\n",
        "* [Kernighan–Lin algorithm (bisection)](https://networkx.org/documentation/stable/reference/algorithms/generated/networkx.algorithms.community.kernighan_lin.kernighan_lin_bisection.html)\n",
        "* [Clauset-Newman-Moore greedy modularity maximization](https://networkx.org/documentation/stable/reference/algorithms/generated/networkx.algorithms.community.modularity_max.greedy_modularity_communities.html#networkx.algorithms.community.modularity_max.greedy_modularity_communities)\n",
        "* [Louvain algorithm](https://python-louvain.readthedocs.io/en/latest/api.html)\n",
        "\n",
        "\n",
        "As a preprocessing step, we partition our graph into a list of seperate subgraphs using one of the three communitiy detection algorithms above. Then during training we iteratively train our vanilla Cluster-GNN model on a randomly selected subgraph, rather than on over the entire graph at once. To make training more stable, we discard any communities that have less than 10 nodes.\n",
        "\n",
        "Let's begin by defining the three partition algorithms."
      ]
    },
    {
      "cell_type": "code",
      "execution_count": 55,
      "metadata": {
        "id": "N8XeT005UcKh"
      },
      "outputs": [],
      "source": [
        "def partition(G, method=\"louvain\"):\n",
        "    # TODO: Implement a function that takes a Networkx graph G and\n",
        "    # partitions the graph into communities using the specified graph\n",
        "    # partition algorithm.\n",
        "    #\n",
        "    # Return: A list of sets of nodes, one for each community!\n",
        "\n",
        "    communities = None\n",
        "\n",
        "    if method == \"louvain\":\n",
        "        ############# Your code here #############\n",
        "        ## (~9 line of code)\n",
        "        ## Note:\n",
        "        ## 1. Find a community mapping corresponding to the partition of the\n",
        "        ##    graph nodes which maximizes the modularity for the Louvain algorithm.\n",
        "        ##    Set your resolution to 10.\n",
        "        ## 2. Create a mapping of communities to a set of member nodes.\n",
        "        ## 3. Extract the node sets from each community and return\n",
        "        ##    as a list of sets.\n",
        "        ##    Hint: Perhaps a dictionary structure can assist.\n",
        "        ## 4. SET random_state = 8\n",
        "        community_mapping = community_louvain.best_partition(G, resolution=10, random_state=8)\n",
        "        communities = {}\n",
        "        for key, value in community_mapping.items():\n",
        "          if value in communities:\n",
        "            communities[value].add(key)\n",
        "          else:\n",
        "            communities[value] = set([key])\n",
        "        communities = list(communities.values())\n",
        "        ##########################################\n",
        "    elif method == \"bisection\":\n",
        "        ############# Your code here #############\n",
        "        ## (~1 line of code)\n",
        "        ## Note:\n",
        "        ## 1. The Kernigan-Lin algorithm ensures that nodes are partitioned into two\n",
        "        ##    primary communities.\n",
        "        ## 2. Ensure that the resultant data structure is consistent with expected\n",
        "        ##    output.\n",
        "        ## 3. SET seed = 8\n",
        "        communities = nx.algorithms.community.kernighan_lin_bisection(G, seed=8)\n",
        "        ##########################################\n",
        "    elif method == \"greedy\":\n",
        "        ############# Your code here #############\n",
        "        ## (~1 line of code)\n",
        "        ## Note:\n",
        "        ## 1. Clauset-Newman-Moore greedy modularity maximization joins pair\n",
        "        ##    of communities nodes that most increases modularity until no such\n",
        "        ##    pair exists.\n",
        "        communities = nx.algorithms.community.greedy_modularity_communities(G)\n",
        "        ##########################################\n",
        "\n",
        "    return communities\n",
        "\n",
        "\n",
        "def preprocess(G, node_label_index, method=\"louvain\"):\n",
        "    graphs = []\n",
        "    labeled_nodes = set(node_label_index.tolist())\n",
        "\n",
        "    communities = partition(G, method)\n",
        "\n",
        "    for community in communities:\n",
        "        nodes = set(community)\n",
        "        subgraph = G.subgraph(nodes)\n",
        "        # Make sure each subgraph has more than 10 nodes\n",
        "        if subgraph.number_of_nodes() > 10:\n",
        "            node_mapping = {node : i for i, node in enumerate(subgraph.nodes())}\n",
        "            subgraph = nx.relabel_nodes(subgraph, node_mapping)\n",
        "            # Get the id of the training set labeled node in the new graph\n",
        "            train_label_index = []\n",
        "            for node in labeled_nodes:\n",
        "                if node in node_mapping:\n",
        "                    # Append relabeled labeled node index\n",
        "                    train_label_index.append(node_mapping[node])\n",
        "\n",
        "            # Make sure the subgraph contains at least one training set labeled node\n",
        "            if len(train_label_index) > 0:\n",
        "                dg = Graph(subgraph)\n",
        "                # Update node_label_index\n",
        "                dg.node_label_index = torch.tensor(train_label_index, dtype=torch.long)\n",
        "                graphs.append(dg)\n",
        "    return graphs"
      ]
    },
    {
      "cell_type": "markdown",
      "metadata": {
        "id": "YKrUdkhC1-A3"
      },
      "source": [
        "## Experimenting with different graph partition algorithms\n",
        "\n",
        "We will now experiment with the three graph partition algorithms, using the resulting graph clusters to train our vanilla Cluster-GNN. We will first observe how each parition algorithm partitions the original graph. Then we will compare the perfomance of our vanilla Cluster-GNN trained using the different graph clustering techniques. Lastly, we will compare against training a vanilla GCN over the entire graph (refered to as Full-Batch training).  "
      ]
    },
    {
      "cell_type": "markdown",
      "metadata": {
        "id": "7CYEamCAU-TJ"
      },
      "source": [
        "## **Question 2.1a:** How does the Louvain algorithm partition our graph? (3 points)\n"
      ]
    },
    {
      "cell_type": "code",
      "execution_count": 50,
      "metadata": {
        "colab": {
          "base_uri": "https://localhost:8080/"
        },
        "id": "-TrC6ybWU7eO",
        "outputId": "76fb217d-a123-4460-c338-fec75f7ef1cd"
      },
      "outputs": [
        {
          "output_type": "stream",
          "name": "stdout",
          "text": [
            "Index fields: train_mask ignored.\n",
            "Index fields: val_mask ignored.\n",
            "Index fields: test_mask ignored.\n",
            "\n",
            "Partitioning the graph in to 77 communities\n",
            "Each community has 21 nodes in average\n",
            "Each community has 30 edges in average\n"
          ]
        }
      ],
      "source": [
        "if 'IS_GRADESCOPE_ENV' not in os.environ:\n",
        "\n",
        "  set_seed()\n",
        "\n",
        "  graphs_train, graphs_val, graphs_test = \\\n",
        "      GraphDataset.pyg_to_graphs(pyg_dataset, verbose=True, fixed_split=True)\n",
        "\n",
        "  graph_train = graphs_train[0]\n",
        "  graph_val = graphs_val[0]\n",
        "  graph_test = graphs_test[0]\n",
        "  graphs = preprocess(graph_train.G, graph_train.node_label_index, method=\"louvain\")\n",
        "  print()\n",
        "  print(\"Partitioning the graph in to {} communities\".format(len(graphs)))\n",
        "  avg_num_nodes = 0\n",
        "  avg_num_edges = 0\n",
        "  for graph in graphs:\n",
        "      avg_num_nodes += graph.num_nodes\n",
        "      avg_num_edges += graph.num_edges\n",
        "  avg_num_nodes = int(avg_num_nodes / len(graphs))\n",
        "  avg_num_edges = int(avg_num_edges / len(graphs))\n",
        "  print(\"Each community has {} nodes in average\".format(avg_num_nodes))\n",
        "  print(\"Each community has {} edges in average\".format(avg_num_edges))"
      ]
    },
    {
      "cell_type": "markdown",
      "metadata": {
        "id": "O03uXIuGVIgJ"
      },
      "source": [
        "## **Question 2.1b:** Using Louvain clustering, what is the maximum test accuracy obtained by your vanilla Cluster-GCN? (6 points)\n"
      ]
    },
    {
      "cell_type": "code",
      "execution_count": 51,
      "metadata": {
        "colab": {
          "base_uri": "https://localhost:8080/"
        },
        "id": "iSbGf5ADVFQq",
        "outputId": "236a0ba9-d9ee-435d-c855-c2d7ff8a292d"
      },
      "outputs": [
        {
          "output_type": "stream",
          "name": "stdout",
          "text": [
            "Epoch: 01, Loss: 2.2475, Train: 13.57%, Valid: 7.20% Test: 9.00%\n",
            "Epoch: 02, Loss: 2.0039, Train: 20.71%, Valid: 9.00% Test: 11.60%\n",
            "Epoch: 03, Loss: 2.2459, Train: 18.57%, Valid: 13.00% Test: 13.80%\n",
            "Epoch: 04, Loss: 1.3824, Train: 17.14%, Valid: 13.00% Test: 13.90%\n",
            "Epoch: 05, Loss: 2.6401, Train: 20.00%, Valid: 14.60% Test: 14.90%\n",
            "Epoch: 06, Loss: 2.5787, Train: 20.71%, Valid: 15.40% Test: 16.90%\n",
            "Epoch: 07, Loss: 2.6248, Train: 21.43%, Valid: 16.60% Test: 18.80%\n",
            "Epoch: 08, Loss: 2.4910, Train: 22.86%, Valid: 16.80% Test: 18.80%\n",
            "Epoch: 09, Loss: 2.5500, Train: 22.86%, Valid: 17.40% Test: 19.40%\n",
            "Epoch: 10, Loss: 3.6896, Train: 22.14%, Valid: 18.00% Test: 20.60%\n",
            "Epoch: 11, Loss: 1.5465, Train: 23.57%, Valid: 16.40% Test: 21.60%\n",
            "Epoch: 12, Loss: 1.7542, Train: 24.29%, Valid: 14.80% Test: 17.10%\n",
            "Epoch: 13, Loss: 1.8731, Train: 22.14%, Valid: 13.00% Test: 13.80%\n",
            "Epoch: 14, Loss: 2.5883, Train: 22.86%, Valid: 10.80% Test: 11.10%\n",
            "Epoch: 15, Loss: 1.7295, Train: 22.14%, Valid: 9.80% Test: 9.20%\n",
            "Epoch: 16, Loss: 2.9222, Train: 22.14%, Valid: 10.60% Test: 9.50%\n",
            "Epoch: 17, Loss: 1.6310, Train: 22.14%, Valid: 11.40% Test: 9.60%\n",
            "Epoch: 18, Loss: 2.3224, Train: 22.86%, Valid: 11.80% Test: 9.00%\n",
            "Epoch: 19, Loss: 2.6001, Train: 23.57%, Valid: 10.60% Test: 8.80%\n",
            "Epoch: 20, Loss: 1.1372, Train: 24.29%, Valid: 12.20% Test: 9.20%\n",
            "Epoch: 21, Loss: 1.5426, Train: 26.43%, Valid: 12.00% Test: 9.30%\n",
            "Epoch: 22, Loss: 0.2949, Train: 22.14%, Valid: 10.80% Test: 9.10%\n",
            "Epoch: 23, Loss: 1.7837, Train: 22.14%, Valid: 10.20% Test: 9.20%\n",
            "Epoch: 24, Loss: 3.3548, Train: 22.86%, Valid: 10.80% Test: 9.30%\n",
            "Epoch: 25, Loss: 1.4559, Train: 22.86%, Valid: 9.80% Test: 10.10%\n",
            "Epoch: 26, Loss: 1.0774, Train: 25.00%, Valid: 10.40% Test: 9.90%\n",
            "Epoch: 27, Loss: 3.0715, Train: 25.00%, Valid: 11.80% Test: 11.00%\n",
            "Epoch: 28, Loss: 0.3368, Train: 26.43%, Valid: 11.60% Test: 11.70%\n",
            "Epoch: 29, Loss: 1.5439, Train: 26.43%, Valid: 11.20% Test: 12.20%\n",
            "Epoch: 30, Loss: 1.7088, Train: 28.57%, Valid: 11.00% Test: 12.00%\n",
            "Epoch: 31, Loss: 3.3427, Train: 25.00%, Valid: 11.20% Test: 11.40%\n",
            "Epoch: 32, Loss: 0.7771, Train: 25.71%, Valid: 10.60% Test: 11.10%\n",
            "Epoch: 33, Loss: 1.8770, Train: 25.00%, Valid: 11.60% Test: 11.70%\n",
            "Epoch: 34, Loss: 2.6074, Train: 25.00%, Valid: 11.40% Test: 10.80%\n",
            "Epoch: 35, Loss: 1.9601, Train: 25.71%, Valid: 11.00% Test: 9.50%\n",
            "Epoch: 36, Loss: 0.9160, Train: 22.86%, Valid: 10.80% Test: 9.10%\n",
            "Epoch: 37, Loss: 2.8357, Train: 25.71%, Valid: 11.00% Test: 9.60%\n",
            "Epoch: 38, Loss: 0.5760, Train: 24.29%, Valid: 10.80% Test: 9.10%\n",
            "Epoch: 39, Loss: 2.1262, Train: 24.29%, Valid: 10.80% Test: 9.20%\n",
            "Epoch: 40, Loss: 1.3920, Train: 24.29%, Valid: 10.40% Test: 9.80%\n",
            "Epoch: 41, Loss: 3.5451, Train: 23.57%, Valid: 11.40% Test: 11.00%\n",
            "Epoch: 42, Loss: 3.3492, Train: 21.43%, Valid: 11.40% Test: 12.30%\n",
            "Epoch: 43, Loss: 3.0640, Train: 22.14%, Valid: 12.60% Test: 13.20%\n",
            "Epoch: 44, Loss: 2.7309, Train: 26.43%, Valid: 12.40% Test: 13.80%\n",
            "Epoch: 45, Loss: 0.9440, Train: 27.86%, Valid: 13.00% Test: 14.80%\n",
            "Epoch: 46, Loss: 1.6209, Train: 32.14%, Valid: 14.60% Test: 15.90%\n",
            "Epoch: 47, Loss: 4.7187, Train: 37.14%, Valid: 14.80% Test: 16.60%\n",
            "Epoch: 48, Loss: 0.4061, Train: 39.29%, Valid: 15.00% Test: 17.10%\n",
            "Epoch: 49, Loss: 0.2443, Train: 38.57%, Valid: 15.60% Test: 17.00%\n",
            "Epoch: 50, Loss: 0.3152, Train: 39.29%, Valid: 14.00% Test: 16.30%\n",
            "Epoch: 51, Loss: 0.0638, Train: 40.71%, Valid: 12.80% Test: 15.10%\n",
            "Epoch: 52, Loss: 1.0026, Train: 40.00%, Valid: 11.80% Test: 14.10%\n",
            "Epoch: 53, Loss: 0.5037, Train: 37.14%, Valid: 11.20% Test: 13.10%\n",
            "Epoch: 54, Loss: 0.0866, Train: 37.14%, Valid: 10.80% Test: 12.30%\n",
            "Epoch: 55, Loss: 0.3910, Train: 35.71%, Valid: 9.60% Test: 11.10%\n",
            "Epoch: 56, Loss: 1.1625, Train: 35.00%, Valid: 10.20% Test: 10.50%\n",
            "Epoch: 57, Loss: 1.4963, Train: 34.29%, Valid: 9.60% Test: 9.90%\n",
            "Epoch: 58, Loss: 0.1311, Train: 35.71%, Valid: 9.60% Test: 10.10%\n",
            "Epoch: 59, Loss: 3.6724, Train: 37.14%, Valid: 9.20% Test: 9.80%\n",
            "Epoch: 60, Loss: 2.4130, Train: 37.86%, Valid: 10.20% Test: 10.40%\n",
            "Epoch: 61, Loss: 1.0969, Train: 36.43%, Valid: 11.20% Test: 11.40%\n",
            "Epoch: 62, Loss: 1.5137, Train: 37.86%, Valid: 11.20% Test: 11.40%\n",
            "Epoch: 63, Loss: 2.4103, Train: 38.57%, Valid: 11.00% Test: 11.70%\n",
            "Epoch: 64, Loss: 1.0314, Train: 38.57%, Valid: 11.00% Test: 11.50%\n",
            "Epoch: 65, Loss: 1.5490, Train: 37.86%, Valid: 11.80% Test: 12.20%\n",
            "Epoch: 66, Loss: 0.3869, Train: 39.29%, Valid: 12.80% Test: 12.30%\n",
            "Epoch: 67, Loss: 4.7156, Train: 40.71%, Valid: 13.00% Test: 12.10%\n",
            "Epoch: 68, Loss: 0.5351, Train: 40.00%, Valid: 12.60% Test: 13.10%\n",
            "Epoch: 69, Loss: 1.0651, Train: 40.71%, Valid: 12.60% Test: 13.80%\n",
            "Epoch: 70, Loss: 3.0398, Train: 42.14%, Valid: 14.20% Test: 15.80%\n",
            "Epoch: 71, Loss: 3.4672, Train: 43.57%, Valid: 14.40% Test: 17.60%\n",
            "Epoch: 72, Loss: 1.0583, Train: 45.00%, Valid: 14.80% Test: 18.10%\n",
            "Epoch: 73, Loss: 0.9642, Train: 45.00%, Valid: 16.20% Test: 19.00%\n",
            "Epoch: 74, Loss: 0.0259, Train: 44.29%, Valid: 16.20% Test: 19.50%\n",
            "Epoch: 75, Loss: 2.1023, Train: 44.29%, Valid: 16.80% Test: 19.20%\n",
            "Epoch: 76, Loss: 0.1731, Train: 43.57%, Valid: 15.60% Test: 18.10%\n",
            "Epoch: 77, Loss: 2.4771, Train: 44.29%, Valid: 14.20% Test: 17.80%\n",
            "Epoch: 78, Loss: 0.0156, Train: 45.00%, Valid: 15.20% Test: 17.90%\n",
            "Epoch: 79, Loss: 3.8404, Train: 44.29%, Valid: 15.40% Test: 17.40%\n",
            "Epoch: 80, Loss: 0.0105, Train: 43.57%, Valid: 14.00% Test: 16.60%\n",
            "Epoch: 81, Loss: 2.4383, Train: 42.86%, Valid: 14.20% Test: 17.30%\n",
            "Epoch: 82, Loss: 2.7360, Train: 44.29%, Valid: 15.20% Test: 17.60%\n",
            "Epoch: 83, Loss: 0.0002, Train: 44.29%, Valid: 15.00% Test: 17.30%\n",
            "Epoch: 84, Loss: 0.1013, Train: 42.14%, Valid: 15.40% Test: 16.60%\n",
            "Epoch: 85, Loss: 0.0024, Train: 44.29%, Valid: 15.20% Test: 17.00%\n",
            "Epoch: 86, Loss: 0.9033, Train: 45.71%, Valid: 15.60% Test: 17.70%\n",
            "Epoch: 87, Loss: 0.3267, Train: 45.71%, Valid: 15.60% Test: 16.80%\n",
            "Epoch: 88, Loss: 0.9536, Train: 46.43%, Valid: 15.40% Test: 17.30%\n",
            "Epoch: 89, Loss: 1.2341, Train: 48.57%, Valid: 15.60% Test: 17.50%\n",
            "Epoch: 90, Loss: 0.4296, Train: 45.71%, Valid: 16.00% Test: 17.20%\n",
            "Epoch: 91, Loss: 0.7260, Train: 45.71%, Valid: 15.40% Test: 17.20%\n",
            "Epoch: 92, Loss: 0.2486, Train: 47.14%, Valid: 16.60% Test: 17.60%\n",
            "Epoch: 93, Loss: 0.6930, Train: 46.43%, Valid: 16.40% Test: 16.80%\n",
            "Epoch: 94, Loss: 2.9394, Train: 47.86%, Valid: 16.20% Test: 15.70%\n",
            "Epoch: 95, Loss: 1.6245, Train: 49.29%, Valid: 15.40% Test: 15.30%\n",
            "Epoch: 96, Loss: 0.9540, Train: 51.43%, Valid: 15.80% Test: 16.60%\n",
            "Epoch: 97, Loss: 0.0336, Train: 50.71%, Valid: 15.40% Test: 16.20%\n",
            "Epoch: 98, Loss: 4.6714, Train: 51.43%, Valid: 17.00% Test: 16.60%\n",
            "Epoch: 99, Loss: 4.7176, Train: 52.14%, Valid: 17.00% Test: 17.20%\n",
            "Epoch: 100, Loss: 2.1094, Train: 54.29%, Valid: 17.40% Test: 17.60%\n",
            "Epoch: 101, Loss: 2.6531, Train: 55.00%, Valid: 17.60% Test: 17.70%\n",
            "Epoch: 102, Loss: 1.3552, Train: 56.43%, Valid: 17.20% Test: 18.00%\n",
            "Epoch: 103, Loss: 0.6029, Train: 57.86%, Valid: 16.40% Test: 18.50%\n",
            "Epoch: 104, Loss: 0.0073, Train: 57.14%, Valid: 15.60% Test: 19.10%\n",
            "Epoch: 105, Loss: 1.1346, Train: 56.43%, Valid: 16.60% Test: 18.80%\n",
            "Epoch: 106, Loss: 0.0130, Train: 57.14%, Valid: 16.40% Test: 18.20%\n",
            "Epoch: 107, Loss: 0.0812, Train: 57.14%, Valid: 16.20% Test: 17.50%\n",
            "Epoch: 108, Loss: 2.4847, Train: 57.14%, Valid: 16.20% Test: 17.50%\n",
            "Epoch: 109, Loss: 0.3421, Train: 59.29%, Valid: 16.80% Test: 18.70%\n",
            "Epoch: 110, Loss: 0.3881, Train: 58.57%, Valid: 17.00% Test: 20.10%\n",
            "Epoch: 111, Loss: 0.0006, Train: 60.71%, Valid: 16.60% Test: 19.20%\n",
            "Epoch: 112, Loss: 3.1432, Train: 59.29%, Valid: 16.20% Test: 19.80%\n",
            "Epoch: 113, Loss: 0.1738, Train: 59.29%, Valid: 16.40% Test: 19.70%\n",
            "Epoch: 114, Loss: 1.5374, Train: 60.71%, Valid: 16.80% Test: 20.00%\n",
            "Epoch: 115, Loss: 2.0604, Train: 59.29%, Valid: 16.60% Test: 19.00%\n",
            "Epoch: 116, Loss: 0.9403, Train: 60.00%, Valid: 16.20% Test: 17.30%\n",
            "Epoch: 117, Loss: 0.1554, Train: 58.57%, Valid: 17.40% Test: 16.90%\n",
            "Epoch: 118, Loss: 0.7807, Train: 60.00%, Valid: 18.00% Test: 16.70%\n",
            "Epoch: 119, Loss: 2.1930, Train: 61.43%, Valid: 17.80% Test: 16.90%\n",
            "Epoch: 120, Loss: 1.2339, Train: 59.29%, Valid: 17.20% Test: 17.80%\n",
            "Epoch: 121, Loss: 1.3981, Train: 57.86%, Valid: 17.20% Test: 17.70%\n",
            "Epoch: 122, Loss: 1.3949, Train: 58.57%, Valid: 15.80% Test: 18.00%\n",
            "Epoch: 123, Loss: 1.4971, Train: 57.86%, Valid: 17.00% Test: 18.00%\n",
            "Epoch: 124, Loss: 1.2161, Train: 60.00%, Valid: 18.40% Test: 18.70%\n",
            "Epoch: 125, Loss: 0.1592, Train: 58.57%, Valid: 17.80% Test: 17.60%\n",
            "Epoch: 126, Loss: 1.7721, Train: 60.71%, Valid: 18.00% Test: 18.00%\n",
            "Epoch: 127, Loss: 0.0668, Train: 62.86%, Valid: 18.20% Test: 18.10%\n",
            "Epoch: 128, Loss: 3.0942, Train: 62.86%, Valid: 18.40% Test: 18.60%\n",
            "Epoch: 129, Loss: 2.7719, Train: 65.00%, Valid: 17.80% Test: 19.20%\n",
            "Epoch: 130, Loss: 0.4081, Train: 64.29%, Valid: 19.40% Test: 22.00%\n",
            "Epoch: 131, Loss: 0.2760, Train: 63.57%, Valid: 18.40% Test: 22.40%\n",
            "Epoch: 132, Loss: 0.3976, Train: 63.57%, Valid: 19.00% Test: 21.70%\n",
            "Epoch: 133, Loss: 0.7913, Train: 63.57%, Valid: 18.40% Test: 22.00%\n",
            "Epoch: 134, Loss: 0.0439, Train: 63.57%, Valid: 21.20% Test: 23.60%\n",
            "Epoch: 135, Loss: 0.0004, Train: 63.57%, Valid: 21.80% Test: 24.00%\n",
            "Epoch: 136, Loss: 4.2310, Train: 62.86%, Valid: 21.60% Test: 24.50%\n",
            "Epoch: 137, Loss: 2.5373, Train: 64.29%, Valid: 22.40% Test: 24.70%\n",
            "Epoch: 138, Loss: 0.0861, Train: 64.29%, Valid: 22.20% Test: 23.70%\n",
            "Epoch: 139, Loss: 0.0095, Train: 62.14%, Valid: 21.80% Test: 23.80%\n",
            "Epoch: 140, Loss: 0.9468, Train: 66.43%, Valid: 24.60% Test: 24.90%\n",
            "Epoch: 141, Loss: 0.0226, Train: 65.71%, Valid: 24.60% Test: 25.20%\n",
            "Epoch: 142, Loss: 1.4802, Train: 65.71%, Valid: 24.00% Test: 24.90%\n",
            "Epoch: 143, Loss: 0.3587, Train: 66.43%, Valid: 24.60% Test: 25.10%\n",
            "Epoch: 144, Loss: 0.2322, Train: 65.71%, Valid: 24.60% Test: 25.80%\n",
            "Epoch: 145, Loss: 3.3827, Train: 66.43%, Valid: 24.60% Test: 26.10%\n",
            "Epoch: 146, Loss: 0.2856, Train: 66.43%, Valid: 24.20% Test: 24.20%\n",
            "Epoch: 147, Loss: 0.8148, Train: 65.71%, Valid: 23.80% Test: 24.60%\n",
            "Epoch: 148, Loss: 0.1549, Train: 67.14%, Valid: 26.00% Test: 24.70%\n",
            "Epoch: 149, Loss: 0.2046, Train: 66.43%, Valid: 25.40% Test: 24.00%\n",
            "Epoch: 150, Loss: 0.0142, Train: 65.71%, Valid: 25.80% Test: 23.70%\n",
            "Saving Model Predictions for Model: cluster louvain\n",
            "Best model: Train: 67.14%, Valid: 26.00% Test: 24.70%\n"
          ]
        }
      ],
      "source": [
        "if 'IS_GRADESCOPE_ENV' not in os.environ:\n",
        "\n",
        "  set_seed()\n",
        "\n",
        "  model = GNN(graph_train.num_node_features, args['hidden_size'], graph_train.num_node_labels, args).to(args['device'])\n",
        "\n",
        "  # Disable compile as this does not seem to work yet in PyTorch 2.0.1/PyG 2.3.1\n",
        "  # try:\n",
        "  #   model = torch_geometric.compile(model)\n",
        "  #   print(f\"GNN Model compiled\")\n",
        "  # except Exception as err:\n",
        "  #   print(f\"Model compile not supported: {err}\")\n",
        "\n",
        "  optimizer = torch.optim.Adam(model.parameters(), lr=args['lr'])\n",
        "  louvain_best_model, louvain_accs = train(graphs, [graph_train, graph_val, graph_test], args, model, optimizer, mode=\"community\")\n",
        "  train_acc, val_acc, test_acc = test([graph_train, graph_val, graph_test], louvain_best_model, save_model_results=True, batch_type=\"cluster\", title=\"louvain\")\n",
        "  print('Best model:',\n",
        "        f'Train: {100 * train_acc:.2f}%, '\n",
        "        f'Valid: {100 * val_acc:.2f}% '\n",
        "        f'Test: {100 * test_acc:.2f}%')"
      ]
    },
    {
      "cell_type": "markdown",
      "metadata": {
        "id": "6CvTf0ANVO9U"
      },
      "source": [
        "## **Question 2.2a:** How does the Bisection algorithm partition our graph? (3 points)"
      ]
    },
    {
      "cell_type": "code",
      "execution_count": 52,
      "metadata": {
        "colab": {
          "base_uri": "https://localhost:8080/"
        },
        "id": "HkV0zlhgVJ7u",
        "outputId": "7d78d440-4003-4320-a6af-48c67258b702"
      },
      "outputs": [
        {
          "output_type": "stream",
          "name": "stdout",
          "text": [
            "Index fields: train_mask ignored.\n",
            "Index fields: val_mask ignored.\n",
            "Index fields: test_mask ignored.\n",
            "Partition the graph in to 2 communities\n",
            "Each community has 1354 nodes in average\n",
            "Each community has 2397 edges in average\n"
          ]
        }
      ],
      "source": [
        "if 'IS_GRADESCOPE_ENV' not in os.environ:\n",
        "\n",
        "  set_seed()\n",
        "\n",
        "  graphs_train, graphs_val, graphs_test = \\\n",
        "      GraphDataset.pyg_to_graphs(pyg_dataset, verbose=True, fixed_split=True)\n",
        "\n",
        "  graph_train = graphs_train[0]\n",
        "  graph_val = graphs_val[0]\n",
        "  graph_test = graphs_test[0]\n",
        "  graphs = preprocess(graph_train.G, graph_train.node_label_index, method=\"bisection\")\n",
        "  print(\"Partition the graph in to {} communities\".format(len(graphs)))\n",
        "  avg_num_nodes = 0\n",
        "  avg_num_edges = 0\n",
        "  for graph in graphs:\n",
        "      avg_num_nodes += graph.num_nodes\n",
        "      avg_num_edges += graph.num_edges\n",
        "  avg_num_nodes = int(avg_num_nodes / len(graphs))\n",
        "  avg_num_edges = int(avg_num_edges / len(graphs))\n",
        "  print(\"Each community has {} nodes in average\".format(avg_num_nodes))\n",
        "  print(\"Each community has {} edges in average\".format(avg_num_edges))"
      ]
    },
    {
      "cell_type": "markdown",
      "metadata": {
        "id": "IqMCvP8wVVms"
      },
      "source": [
        "## **Question 2.2b:** Using the Bisection algorithm to partition the graph, what is the maximum test accuracy obtained by your vanilla Cluster-GCN? (6 points)\n"
      ]
    },
    {
      "cell_type": "code",
      "execution_count": 53,
      "metadata": {
        "colab": {
          "base_uri": "https://localhost:8080/"
        },
        "id": "k1wgFg1bVRGY",
        "outputId": "652dfbec-a05b-4ebf-f735-65634c6cd5e1"
      },
      "outputs": [
        {
          "output_type": "stream",
          "name": "stdout",
          "text": [
            "Epoch: 01, Loss: 2.1193, Train: 25.71%, Valid: 8.20% Test: 10.40%\n",
            "Epoch: 02, Loss: 1.0584, Train: 36.43%, Valid: 12.60% Test: 16.40%\n",
            "Epoch: 03, Loss: 2.0182, Train: 55.00%, Valid: 26.20% Test: 30.20%\n",
            "Epoch: 04, Loss: 0.3854, Train: 79.29%, Valid: 39.80% Test: 43.40%\n",
            "Epoch: 05, Loss: 0.2455, Train: 87.14%, Valid: 53.40% Test: 54.80%\n",
            "Epoch: 06, Loss: 0.1568, Train: 91.43%, Valid: 59.00% Test: 59.60%\n",
            "Epoch: 07, Loss: 0.6597, Train: 96.43%, Valid: 64.20% Test: 63.80%\n",
            "Epoch: 08, Loss: 0.0463, Train: 97.14%, Valid: 66.80% Test: 67.30%\n",
            "Epoch: 09, Loss: 0.0458, Train: 97.86%, Valid: 68.20% Test: 68.40%\n",
            "Epoch: 10, Loss: 0.3323, Train: 99.29%, Valid: 69.00% Test: 69.60%\n",
            "Epoch: 11, Loss: 0.1825, Train: 100.00%, Valid: 69.80% Test: 70.50%\n",
            "Epoch: 12, Loss: 0.0131, Train: 100.00%, Valid: 70.60% Test: 71.00%\n",
            "Epoch: 13, Loss: 0.0083, Train: 100.00%, Valid: 72.00% Test: 71.10%\n",
            "Epoch: 14, Loss: 0.0103, Train: 100.00%, Valid: 71.60% Test: 71.70%\n",
            "Epoch: 15, Loss: 0.0158, Train: 100.00%, Valid: 71.60% Test: 72.00%\n",
            "Epoch: 16, Loss: 0.0226, Train: 100.00%, Valid: 71.60% Test: 72.00%\n",
            "Epoch: 17, Loss: 0.0022, Train: 100.00%, Valid: 72.00% Test: 72.30%\n",
            "Epoch: 18, Loss: 0.0181, Train: 100.00%, Valid: 72.00% Test: 72.30%\n",
            "Epoch: 19, Loss: 0.0147, Train: 100.00%, Valid: 71.80% Test: 72.40%\n",
            "Epoch: 20, Loss: 0.0048, Train: 100.00%, Valid: 71.80% Test: 72.60%\n",
            "Epoch: 21, Loss: 0.0062, Train: 100.00%, Valid: 71.80% Test: 72.60%\n",
            "Epoch: 22, Loss: 0.0034, Train: 100.00%, Valid: 71.80% Test: 72.90%\n",
            "Epoch: 23, Loss: 0.0085, Train: 100.00%, Valid: 71.60% Test: 72.80%\n",
            "Epoch: 24, Loss: 0.0026, Train: 100.00%, Valid: 71.80% Test: 72.80%\n",
            "Epoch: 25, Loss: 0.0025, Train: 100.00%, Valid: 71.40% Test: 72.80%\n",
            "Epoch: 26, Loss: 0.0020, Train: 100.00%, Valid: 71.40% Test: 72.60%\n",
            "Epoch: 27, Loss: 0.0019, Train: 100.00%, Valid: 71.20% Test: 72.50%\n",
            "Epoch: 28, Loss: 0.0047, Train: 100.00%, Valid: 71.60% Test: 72.80%\n",
            "Epoch: 29, Loss: 0.0153, Train: 100.00%, Valid: 72.40% Test: 72.70%\n",
            "Epoch: 30, Loss: 0.0015, Train: 100.00%, Valid: 72.40% Test: 72.40%\n",
            "Epoch: 31, Loss: 0.0006, Train: 100.00%, Valid: 73.00% Test: 72.30%\n",
            "Epoch: 32, Loss: 0.0011, Train: 100.00%, Valid: 73.00% Test: 72.70%\n",
            "Epoch: 33, Loss: 0.0006, Train: 100.00%, Valid: 72.60% Test: 72.60%\n",
            "Epoch: 34, Loss: 0.0012, Train: 100.00%, Valid: 72.80% Test: 72.50%\n",
            "Epoch: 35, Loss: 0.0003, Train: 100.00%, Valid: 72.60% Test: 72.50%\n",
            "Epoch: 36, Loss: 0.0004, Train: 100.00%, Valid: 72.80% Test: 72.50%\n",
            "Epoch: 37, Loss: 0.0005, Train: 100.00%, Valid: 72.80% Test: 72.70%\n",
            "Epoch: 38, Loss: 0.0002, Train: 100.00%, Valid: 73.00% Test: 72.70%\n",
            "Epoch: 39, Loss: 0.0019, Train: 100.00%, Valid: 72.80% Test: 72.80%\n",
            "Epoch: 40, Loss: 0.0025, Train: 100.00%, Valid: 73.00% Test: 72.70%\n",
            "Epoch: 41, Loss: 0.0002, Train: 100.00%, Valid: 73.00% Test: 72.90%\n",
            "Epoch: 42, Loss: 0.0003, Train: 100.00%, Valid: 73.00% Test: 72.90%\n",
            "Epoch: 43, Loss: 0.0012, Train: 100.00%, Valid: 73.20% Test: 72.90%\n",
            "Epoch: 44, Loss: 0.0003, Train: 100.00%, Valid: 73.00% Test: 72.90%\n",
            "Epoch: 45, Loss: 0.0011, Train: 100.00%, Valid: 73.20% Test: 72.90%\n",
            "Epoch: 46, Loss: 0.0020, Train: 100.00%, Valid: 72.80% Test: 72.90%\n",
            "Epoch: 47, Loss: 0.0006, Train: 100.00%, Valid: 72.80% Test: 72.90%\n",
            "Epoch: 48, Loss: 0.0013, Train: 100.00%, Valid: 72.60% Test: 73.20%\n",
            "Epoch: 49, Loss: 0.0004, Train: 100.00%, Valid: 72.80% Test: 73.00%\n",
            "Epoch: 50, Loss: 0.0001, Train: 100.00%, Valid: 72.80% Test: 73.00%\n",
            "Epoch: 51, Loss: 0.0004, Train: 100.00%, Valid: 72.60% Test: 73.00%\n",
            "Epoch: 52, Loss: 0.0008, Train: 100.00%, Valid: 72.60% Test: 73.10%\n",
            "Epoch: 53, Loss: 0.0017, Train: 100.00%, Valid: 72.60% Test: 73.40%\n",
            "Epoch: 54, Loss: 0.0018, Train: 100.00%, Valid: 72.60% Test: 73.10%\n",
            "Epoch: 55, Loss: 0.0003, Train: 100.00%, Valid: 72.20% Test: 73.00%\n",
            "Epoch: 56, Loss: 0.0003, Train: 100.00%, Valid: 72.60% Test: 73.10%\n",
            "Epoch: 57, Loss: 0.0000, Train: 100.00%, Valid: 72.20% Test: 73.20%\n",
            "Epoch: 58, Loss: 0.0000, Train: 100.00%, Valid: 72.40% Test: 73.20%\n",
            "Epoch: 59, Loss: 0.0008, Train: 100.00%, Valid: 72.60% Test: 73.20%\n",
            "Epoch: 60, Loss: 0.0002, Train: 100.00%, Valid: 72.80% Test: 73.30%\n",
            "Epoch: 61, Loss: 0.0003, Train: 100.00%, Valid: 72.80% Test: 73.30%\n",
            "Epoch: 62, Loss: 0.0002, Train: 100.00%, Valid: 72.40% Test: 73.30%\n",
            "Epoch: 63, Loss: 0.0001, Train: 100.00%, Valid: 72.00% Test: 73.30%\n",
            "Epoch: 64, Loss: 0.0002, Train: 100.00%, Valid: 72.00% Test: 73.10%\n",
            "Epoch: 65, Loss: 0.0023, Train: 100.00%, Valid: 72.20% Test: 73.40%\n",
            "Epoch: 66, Loss: 0.0001, Train: 100.00%, Valid: 72.00% Test: 73.20%\n",
            "Epoch: 67, Loss: 0.0005, Train: 100.00%, Valid: 72.40% Test: 73.40%\n",
            "Epoch: 68, Loss: 0.0001, Train: 100.00%, Valid: 72.60% Test: 73.50%\n",
            "Epoch: 69, Loss: 0.0018, Train: 100.00%, Valid: 72.80% Test: 73.60%\n",
            "Epoch: 70, Loss: 0.0003, Train: 100.00%, Valid: 72.80% Test: 73.60%\n",
            "Epoch: 71, Loss: 0.0047, Train: 100.00%, Valid: 73.20% Test: 74.00%\n",
            "Epoch: 72, Loss: 0.0000, Train: 100.00%, Valid: 73.20% Test: 73.80%\n",
            "Epoch: 73, Loss: 0.0002, Train: 100.00%, Valid: 73.00% Test: 73.90%\n",
            "Epoch: 74, Loss: 0.0093, Train: 100.00%, Valid: 73.00% Test: 73.80%\n",
            "Epoch: 75, Loss: 0.0007, Train: 100.00%, Valid: 73.40% Test: 74.00%\n",
            "Epoch: 76, Loss: 0.0001, Train: 100.00%, Valid: 73.60% Test: 74.10%\n",
            "Epoch: 77, Loss: 0.0004, Train: 100.00%, Valid: 73.00% Test: 73.90%\n",
            "Epoch: 78, Loss: 0.0001, Train: 100.00%, Valid: 73.20% Test: 74.10%\n",
            "Epoch: 79, Loss: 0.0000, Train: 100.00%, Valid: 72.80% Test: 74.00%\n",
            "Epoch: 80, Loss: 0.0003, Train: 100.00%, Valid: 72.60% Test: 74.10%\n",
            "Epoch: 81, Loss: 0.0000, Train: 100.00%, Valid: 72.80% Test: 74.20%\n",
            "Epoch: 82, Loss: 0.0004, Train: 100.00%, Valid: 72.60% Test: 74.20%\n",
            "Epoch: 83, Loss: 0.0008, Train: 100.00%, Valid: 72.40% Test: 74.40%\n",
            "Epoch: 84, Loss: 0.0001, Train: 100.00%, Valid: 72.60% Test: 74.40%\n",
            "Epoch: 85, Loss: 0.0000, Train: 100.00%, Valid: 72.40% Test: 74.40%\n",
            "Epoch: 86, Loss: 0.0002, Train: 100.00%, Valid: 72.40% Test: 74.10%\n",
            "Epoch: 87, Loss: 0.0001, Train: 100.00%, Valid: 72.40% Test: 74.20%\n",
            "Epoch: 88, Loss: 0.0011, Train: 100.00%, Valid: 72.80% Test: 74.50%\n",
            "Epoch: 89, Loss: 0.0002, Train: 100.00%, Valid: 72.80% Test: 74.80%\n",
            "Epoch: 90, Loss: 0.0002, Train: 100.00%, Valid: 72.80% Test: 75.00%\n",
            "Epoch: 91, Loss: 0.0002, Train: 100.00%, Valid: 73.00% Test: 75.00%\n",
            "Epoch: 92, Loss: 0.0001, Train: 100.00%, Valid: 73.40% Test: 75.00%\n",
            "Epoch: 93, Loss: 0.0000, Train: 100.00%, Valid: 72.80% Test: 75.00%\n",
            "Epoch: 94, Loss: 0.0002, Train: 100.00%, Valid: 73.20% Test: 75.00%\n",
            "Epoch: 95, Loss: 0.0005, Train: 100.00%, Valid: 73.60% Test: 75.10%\n",
            "Epoch: 96, Loss: 0.0000, Train: 100.00%, Valid: 73.00% Test: 75.10%\n",
            "Epoch: 97, Loss: 0.0000, Train: 100.00%, Valid: 73.40% Test: 75.00%\n",
            "Epoch: 98, Loss: 0.0004, Train: 100.00%, Valid: 73.60% Test: 75.00%\n",
            "Epoch: 99, Loss: 0.0000, Train: 100.00%, Valid: 73.00% Test: 75.00%\n",
            "Epoch: 100, Loss: 0.0002, Train: 100.00%, Valid: 73.60% Test: 74.80%\n",
            "Epoch: 101, Loss: 0.0013, Train: 100.00%, Valid: 73.40% Test: 75.10%\n",
            "Epoch: 102, Loss: 0.0000, Train: 100.00%, Valid: 73.40% Test: 75.00%\n",
            "Epoch: 103, Loss: 0.0002, Train: 100.00%, Valid: 73.40% Test: 75.00%\n",
            "Epoch: 104, Loss: 0.0002, Train: 100.00%, Valid: 73.40% Test: 74.90%\n",
            "Epoch: 105, Loss: 0.0001, Train: 100.00%, Valid: 73.00% Test: 74.70%\n",
            "Epoch: 106, Loss: 0.0000, Train: 100.00%, Valid: 73.20% Test: 74.80%\n",
            "Epoch: 107, Loss: 0.0001, Train: 100.00%, Valid: 73.00% Test: 74.80%\n",
            "Epoch: 108, Loss: 0.0000, Train: 100.00%, Valid: 73.00% Test: 74.80%\n",
            "Epoch: 109, Loss: 0.0015, Train: 100.00%, Valid: 73.00% Test: 74.70%\n",
            "Epoch: 110, Loss: 0.0000, Train: 100.00%, Valid: 72.80% Test: 74.80%\n",
            "Epoch: 111, Loss: 0.0001, Train: 100.00%, Valid: 73.00% Test: 74.60%\n",
            "Epoch: 112, Loss: 0.0003, Train: 100.00%, Valid: 73.20% Test: 74.80%\n",
            "Epoch: 113, Loss: 0.0008, Train: 100.00%, Valid: 73.20% Test: 74.80%\n",
            "Epoch: 114, Loss: 0.0000, Train: 100.00%, Valid: 73.00% Test: 74.60%\n",
            "Epoch: 115, Loss: 0.0000, Train: 100.00%, Valid: 73.00% Test: 74.10%\n",
            "Epoch: 116, Loss: 0.0002, Train: 100.00%, Valid: 73.20% Test: 74.40%\n",
            "Epoch: 117, Loss: 0.0003, Train: 100.00%, Valid: 73.40% Test: 74.40%\n",
            "Epoch: 118, Loss: 0.0001, Train: 100.00%, Valid: 73.20% Test: 74.10%\n",
            "Epoch: 119, Loss: 0.0001, Train: 100.00%, Valid: 73.40% Test: 74.00%\n",
            "Epoch: 120, Loss: 0.0002, Train: 100.00%, Valid: 73.40% Test: 74.10%\n",
            "Epoch: 121, Loss: 0.0000, Train: 100.00%, Valid: 73.20% Test: 74.00%\n",
            "Epoch: 122, Loss: 0.0002, Train: 100.00%, Valid: 73.20% Test: 74.00%\n",
            "Epoch: 123, Loss: 0.0001, Train: 100.00%, Valid: 73.20% Test: 74.00%\n",
            "Epoch: 124, Loss: 0.0000, Train: 100.00%, Valid: 73.20% Test: 74.10%\n",
            "Epoch: 125, Loss: 0.0310, Train: 100.00%, Valid: 72.80% Test: 73.80%\n",
            "Epoch: 126, Loss: 0.0001, Train: 100.00%, Valid: 72.40% Test: 73.80%\n",
            "Epoch: 127, Loss: 0.0007, Train: 100.00%, Valid: 72.20% Test: 73.60%\n",
            "Epoch: 128, Loss: 0.0001, Train: 100.00%, Valid: 72.40% Test: 73.20%\n",
            "Epoch: 129, Loss: 0.0000, Train: 100.00%, Valid: 72.00% Test: 72.90%\n",
            "Epoch: 130, Loss: 0.0003, Train: 100.00%, Valid: 72.00% Test: 73.00%\n",
            "Epoch: 131, Loss: 0.0007, Train: 100.00%, Valid: 71.80% Test: 72.90%\n",
            "Epoch: 132, Loss: 0.0001, Train: 100.00%, Valid: 71.80% Test: 72.90%\n",
            "Epoch: 133, Loss: 0.0001, Train: 100.00%, Valid: 71.80% Test: 72.90%\n",
            "Epoch: 134, Loss: 0.0001, Train: 100.00%, Valid: 71.80% Test: 73.00%\n",
            "Epoch: 135, Loss: 0.0007, Train: 100.00%, Valid: 71.80% Test: 73.00%\n",
            "Epoch: 136, Loss: 0.0001, Train: 100.00%, Valid: 71.80% Test: 73.00%\n",
            "Epoch: 137, Loss: 0.0002, Train: 100.00%, Valid: 71.80% Test: 72.90%\n",
            "Epoch: 138, Loss: 0.0000, Train: 100.00%, Valid: 72.00% Test: 72.90%\n",
            "Epoch: 139, Loss: 0.0001, Train: 100.00%, Valid: 72.00% Test: 72.90%\n",
            "Epoch: 140, Loss: 0.0003, Train: 100.00%, Valid: 71.80% Test: 73.00%\n",
            "Epoch: 141, Loss: 0.0003, Train: 100.00%, Valid: 72.00% Test: 72.90%\n",
            "Epoch: 142, Loss: 0.0002, Train: 100.00%, Valid: 72.00% Test: 72.80%\n",
            "Epoch: 143, Loss: 0.0005, Train: 100.00%, Valid: 72.20% Test: 72.80%\n",
            "Epoch: 144, Loss: 0.0002, Train: 100.00%, Valid: 72.40% Test: 72.80%\n",
            "Epoch: 145, Loss: 0.0001, Train: 100.00%, Valid: 72.00% Test: 72.50%\n",
            "Epoch: 146, Loss: 0.0001, Train: 100.00%, Valid: 72.20% Test: 72.70%\n",
            "Epoch: 147, Loss: 0.0000, Train: 100.00%, Valid: 72.00% Test: 72.50%\n",
            "Epoch: 148, Loss: 0.0001, Train: 100.00%, Valid: 72.00% Test: 72.70%\n",
            "Epoch: 149, Loss: 0.0000, Train: 100.00%, Valid: 72.20% Test: 72.80%\n",
            "Epoch: 150, Loss: 0.0000, Train: 100.00%, Valid: 72.00% Test: 72.70%\n",
            "Saving Model Predictions for Model: cluster bisection\n",
            "Best model: Train: 100.00%, Valid: 73.60% Test: 74.10%\n"
          ]
        }
      ],
      "source": [
        "if 'IS_GRADESCOPE_ENV' not in os.environ:\n",
        "\n",
        "  set_seed()\n",
        "\n",
        "  model = GNN(graph_train.num_node_features, args['hidden_size'], graph_train.num_node_labels, args).to(args['device'])\n",
        "\n",
        "  # Disable compile as this does not seem to work yet in PyTorch 2.0.1/PyG 2.3.1\n",
        "  # try:\n",
        "  #   model = torch_geometric.compile(model)\n",
        "  #   print(f\"GNN Model compiled\")\n",
        "  # except Exception as err:\n",
        "  #   print(f\"Model compile not supported: {err}\")\n",
        "\n",
        "  optimizer = torch.optim.Adam(model.parameters(), lr=args['lr'])\n",
        "  bisection_best_model, bisection_accs = train(graphs, [graph_train, graph_val, graph_test], args, model, optimizer, mode=\"community\")\n",
        "  train_acc, val_acc, test_acc = test([graph_train, graph_val, graph_test], bisection_best_model, save_model_results=True, batch_type=\"cluster\", title=\"bisection\")\n",
        "  print('Best model:',\n",
        "        f'Train: {100 * train_acc:.2f}%, '\n",
        "        f'Valid: {100 * val_acc:.2f}% '\n",
        "        f'Test: {100 * test_acc:.2f}%')"
      ]
    },
    {
      "cell_type": "markdown",
      "metadata": {
        "id": "5PROPwoOVcJy"
      },
      "source": [
        "## **Question 2.3a:** How does Greedy preprocessing partition our graph? (3 points)"
      ]
    },
    {
      "cell_type": "code",
      "execution_count": 56,
      "metadata": {
        "colab": {
          "base_uri": "https://localhost:8080/"
        },
        "id": "h3DVamWqVT92",
        "outputId": "bd6f7f10-42a3-47c0-b1ca-2029a7767d37"
      },
      "outputs": [
        {
          "output_type": "stream",
          "name": "stdout",
          "text": [
            "Index fields: train_mask ignored.\n",
            "Index fields: val_mask ignored.\n",
            "Index fields: test_mask ignored.\n",
            "Partition the graph in to 20 communities\n",
            "Each community has 121 nodes in average\n",
            "Each community has 222 edges in average\n"
          ]
        }
      ],
      "source": [
        "if 'IS_GRADESCOPE_ENV' not in os.environ:\n",
        "\n",
        "  set_seed()\n",
        "\n",
        "  graphs_train, graphs_val, graphs_test = \\\n",
        "      GraphDataset.pyg_to_graphs(pyg_dataset, verbose=True, fixed_split=True)\n",
        "\n",
        "  graph_train = graphs_train[0]\n",
        "  graph_val = graphs_val[0]\n",
        "  graph_test = graphs_test[0]\n",
        "  graphs = preprocess(graph_train.G, graph_train.node_label_index, method=\"greedy\")\n",
        "  print(\"Partition the graph in to {} communities\".format(len(graphs)))\n",
        "  avg_num_nodes = 0\n",
        "  avg_num_edges = 0\n",
        "  for graph in graphs:\n",
        "      avg_num_nodes += graph.num_nodes\n",
        "      avg_num_edges += graph.num_edges\n",
        "  avg_num_nodes = int(avg_num_nodes / len(graphs))\n",
        "  avg_num_edges = int(avg_num_edges / len(graphs))\n",
        "  print(\"Each community has {} nodes in average\".format(avg_num_nodes))\n",
        "  print(\"Each community has {} edges in average\".format(avg_num_edges))"
      ]
    },
    {
      "cell_type": "markdown",
      "metadata": {
        "id": "93pR_-kxVgma"
      },
      "source": [
        "## **Question 2.3b:** Using Greedy preprocessing to partition the graph, what is the maximum test accuracy obtained by your vanilla Cluster-GCN? (6 points)"
      ]
    },
    {
      "cell_type": "code",
      "execution_count": 57,
      "metadata": {
        "colab": {
          "base_uri": "https://localhost:8080/"
        },
        "id": "lQgQY-jPVd_U",
        "outputId": "26a82d5b-deac-4e5d-c8d9-1b1b5d69cc34"
      },
      "outputs": [
        {
          "output_type": "stream",
          "name": "stdout",
          "text": [
            "Epoch: 01, Loss: 1.9727, Train: 20.00%, Valid: 14.80% Test: 18.40%\n",
            "Epoch: 02, Loss: 2.4017, Train: 25.00%, Valid: 24.20% Test: 26.30%\n",
            "Epoch: 03, Loss: 2.2739, Train: 22.14%, Valid: 14.00% Test: 16.90%\n",
            "Epoch: 04, Loss: 0.5295, Train: 22.86%, Valid: 12.20% Test: 12.10%\n",
            "Epoch: 05, Loss: 1.7647, Train: 23.57%, Valid: 12.40% Test: 12.80%\n",
            "Epoch: 06, Loss: 1.9055, Train: 22.86%, Valid: 14.40% Test: 15.00%\n",
            "Epoch: 07, Loss: 2.6335, Train: 24.29%, Valid: 16.00% Test: 19.10%\n",
            "Epoch: 08, Loss: 1.2063, Train: 23.57%, Valid: 21.20% Test: 26.30%\n",
            "Epoch: 09, Loss: 3.7775, Train: 22.14%, Valid: 25.80% Test: 29.40%\n",
            "Epoch: 10, Loss: 2.4445, Train: 22.86%, Valid: 28.40% Test: 30.40%\n",
            "Epoch: 11, Loss: 2.1492, Train: 30.00%, Valid: 30.40% Test: 30.40%\n",
            "Epoch: 12, Loss: 3.0951, Train: 33.57%, Valid: 29.60% Test: 30.40%\n",
            "Epoch: 13, Loss: 2.2231, Train: 36.43%, Valid: 29.00% Test: 29.00%\n",
            "Epoch: 14, Loss: 0.1941, Train: 38.57%, Valid: 27.40% Test: 28.90%\n",
            "Epoch: 15, Loss: 0.8704, Train: 37.14%, Valid: 27.80% Test: 27.80%\n",
            "Epoch: 16, Loss: 1.1060, Train: 40.00%, Valid: 26.20% Test: 26.60%\n",
            "Epoch: 17, Loss: 0.8965, Train: 41.43%, Valid: 25.20% Test: 25.80%\n",
            "Epoch: 18, Loss: 0.1780, Train: 41.43%, Valid: 26.20% Test: 25.60%\n",
            "Epoch: 19, Loss: 1.7052, Train: 42.86%, Valid: 25.60% Test: 24.80%\n",
            "Epoch: 20, Loss: 1.9418, Train: 42.14%, Valid: 25.20% Test: 23.20%\n",
            "Epoch: 21, Loss: 0.1880, Train: 46.43%, Valid: 25.40% Test: 23.40%\n",
            "Epoch: 22, Loss: 1.2547, Train: 49.29%, Valid: 24.40% Test: 22.20%\n",
            "Epoch: 23, Loss: 0.7905, Train: 51.43%, Valid: 23.60% Test: 22.50%\n",
            "Epoch: 24, Loss: 0.2647, Train: 50.71%, Valid: 22.40% Test: 21.50%\n",
            "Epoch: 25, Loss: 2.3001, Train: 49.29%, Valid: 22.60% Test: 20.50%\n",
            "Epoch: 26, Loss: 0.8733, Train: 51.43%, Valid: 21.40% Test: 19.60%\n",
            "Epoch: 27, Loss: 4.1094, Train: 55.71%, Valid: 20.80% Test: 20.00%\n",
            "Epoch: 28, Loss: 0.0256, Train: 55.71%, Valid: 21.80% Test: 21.30%\n",
            "Epoch: 29, Loss: 0.1439, Train: 57.14%, Valid: 23.00% Test: 21.70%\n",
            "Epoch: 30, Loss: 0.0008, Train: 57.14%, Valid: 23.00% Test: 21.40%\n",
            "Epoch: 31, Loss: 1.8086, Train: 57.86%, Valid: 21.80% Test: 21.90%\n",
            "Epoch: 32, Loss: 1.8900, Train: 58.57%, Valid: 21.80% Test: 22.60%\n",
            "Epoch: 33, Loss: 0.8696, Train: 57.86%, Valid: 22.60% Test: 22.90%\n",
            "Epoch: 34, Loss: 0.6062, Train: 58.57%, Valid: 21.80% Test: 22.80%\n",
            "Epoch: 35, Loss: 4.6667, Train: 57.86%, Valid: 21.60% Test: 22.50%\n",
            "Epoch: 36, Loss: 3.7746, Train: 56.43%, Valid: 21.80% Test: 22.10%\n",
            "Epoch: 37, Loss: 2.5545, Train: 60.00%, Valid: 21.20% Test: 22.10%\n",
            "Epoch: 38, Loss: 2.0166, Train: 67.86%, Valid: 21.20% Test: 22.40%\n",
            "Epoch: 39, Loss: 0.0103, Train: 70.00%, Valid: 22.20% Test: 22.80%\n",
            "Epoch: 40, Loss: 0.9032, Train: 75.00%, Valid: 22.80% Test: 22.90%\n",
            "Epoch: 41, Loss: 0.2046, Train: 77.14%, Valid: 22.40% Test: 23.30%\n",
            "Epoch: 42, Loss: 0.6433, Train: 77.14%, Valid: 22.80% Test: 23.30%\n",
            "Epoch: 43, Loss: 0.9804, Train: 78.57%, Valid: 21.80% Test: 23.40%\n",
            "Epoch: 44, Loss: 0.8814, Train: 77.86%, Valid: 22.60% Test: 22.70%\n",
            "Epoch: 45, Loss: 1.0266, Train: 77.86%, Valid: 23.20% Test: 21.80%\n",
            "Epoch: 46, Loss: 2.1769, Train: 77.86%, Valid: 22.40% Test: 21.40%\n",
            "Epoch: 47, Loss: 0.2869, Train: 76.43%, Valid: 22.20% Test: 21.00%\n",
            "Epoch: 48, Loss: 0.1653, Train: 76.43%, Valid: 22.00% Test: 21.70%\n",
            "Epoch: 49, Loss: 0.0566, Train: 76.43%, Valid: 21.80% Test: 22.20%\n",
            "Epoch: 50, Loss: 0.5551, Train: 76.43%, Valid: 23.40% Test: 21.90%\n",
            "Epoch: 51, Loss: 0.0090, Train: 77.14%, Valid: 24.00% Test: 23.20%\n",
            "Epoch: 52, Loss: 1.2407, Train: 80.00%, Valid: 25.00% Test: 24.20%\n",
            "Epoch: 53, Loss: 0.0598, Train: 81.43%, Valid: 24.80% Test: 23.90%\n",
            "Epoch: 54, Loss: 0.3940, Train: 82.14%, Valid: 24.40% Test: 25.10%\n",
            "Epoch: 55, Loss: 0.4612, Train: 82.14%, Valid: 25.20% Test: 26.10%\n",
            "Epoch: 56, Loss: 0.9660, Train: 84.29%, Valid: 25.60% Test: 27.50%\n",
            "Epoch: 57, Loss: 0.0240, Train: 85.71%, Valid: 26.40% Test: 27.60%\n",
            "Epoch: 58, Loss: 1.6410, Train: 85.00%, Valid: 26.20% Test: 27.50%\n",
            "Epoch: 59, Loss: 0.0965, Train: 86.43%, Valid: 26.60% Test: 28.90%\n",
            "Epoch: 60, Loss: 0.1125, Train: 87.14%, Valid: 26.40% Test: 28.70%\n",
            "Epoch: 61, Loss: 0.5058, Train: 87.14%, Valid: 27.20% Test: 29.40%\n",
            "Epoch: 62, Loss: 0.0621, Train: 87.86%, Valid: 27.40% Test: 29.20%\n",
            "Epoch: 63, Loss: 0.0188, Train: 89.29%, Valid: 27.80% Test: 28.80%\n",
            "Epoch: 64, Loss: 0.4116, Train: 89.29%, Valid: 28.20% Test: 28.30%\n",
            "Epoch: 65, Loss: 0.3318, Train: 89.29%, Valid: 26.60% Test: 28.10%\n",
            "Epoch: 66, Loss: 0.6131, Train: 89.29%, Valid: 26.40% Test: 27.70%\n",
            "Epoch: 67, Loss: 0.3731, Train: 89.29%, Valid: 26.20% Test: 27.90%\n",
            "Epoch: 68, Loss: 0.0001, Train: 88.57%, Valid: 27.20% Test: 28.10%\n",
            "Epoch: 69, Loss: 0.3357, Train: 88.57%, Valid: 25.80% Test: 27.80%\n",
            "Epoch: 70, Loss: 0.0186, Train: 88.57%, Valid: 24.60% Test: 27.80%\n",
            "Epoch: 71, Loss: 0.2833, Train: 87.86%, Valid: 24.80% Test: 29.20%\n",
            "Epoch: 72, Loss: 0.7171, Train: 88.57%, Valid: 25.00% Test: 28.10%\n",
            "Epoch: 73, Loss: 0.0894, Train: 88.57%, Valid: 24.40% Test: 27.00%\n",
            "Epoch: 74, Loss: 0.1159, Train: 88.57%, Valid: 24.00% Test: 26.70%\n",
            "Epoch: 75, Loss: 0.0003, Train: 87.86%, Valid: 24.00% Test: 25.30%\n",
            "Epoch: 76, Loss: 0.8710, Train: 88.57%, Valid: 24.80% Test: 25.60%\n",
            "Epoch: 77, Loss: 0.0025, Train: 89.29%, Valid: 25.00% Test: 26.70%\n",
            "Epoch: 78, Loss: 0.3670, Train: 89.29%, Valid: 25.20% Test: 26.50%\n",
            "Epoch: 79, Loss: 0.0904, Train: 89.29%, Valid: 25.80% Test: 27.90%\n",
            "Epoch: 80, Loss: 0.2418, Train: 89.29%, Valid: 26.60% Test: 29.20%\n",
            "Epoch: 81, Loss: 0.4441, Train: 90.00%, Valid: 26.80% Test: 28.30%\n",
            "Epoch: 82, Loss: 0.0549, Train: 90.00%, Valid: 27.60% Test: 28.80%\n",
            "Epoch: 83, Loss: 0.2080, Train: 88.57%, Valid: 27.20% Test: 28.60%\n",
            "Epoch: 84, Loss: 0.0006, Train: 88.57%, Valid: 27.00% Test: 30.20%\n",
            "Epoch: 85, Loss: 0.0855, Train: 87.86%, Valid: 27.00% Test: 30.00%\n",
            "Epoch: 86, Loss: 0.0019, Train: 88.57%, Valid: 26.60% Test: 29.00%\n",
            "Epoch: 87, Loss: 0.0382, Train: 87.86%, Valid: 27.00% Test: 29.10%\n",
            "Epoch: 88, Loss: 1.5581, Train: 88.57%, Valid: 28.00% Test: 28.40%\n",
            "Epoch: 89, Loss: 0.0307, Train: 87.86%, Valid: 29.00% Test: 30.50%\n",
            "Epoch: 90, Loss: 0.0028, Train: 88.57%, Valid: 28.40% Test: 29.80%\n",
            "Epoch: 91, Loss: 0.0639, Train: 87.86%, Valid: 28.60% Test: 30.00%\n",
            "Epoch: 92, Loss: 0.0005, Train: 88.57%, Valid: 28.00% Test: 29.70%\n",
            "Epoch: 93, Loss: 0.0003, Train: 88.57%, Valid: 29.40% Test: 29.90%\n",
            "Epoch: 94, Loss: 0.0098, Train: 88.57%, Valid: 28.60% Test: 30.30%\n",
            "Epoch: 95, Loss: 0.0111, Train: 87.86%, Valid: 29.00% Test: 30.70%\n",
            "Epoch: 96, Loss: 0.1568, Train: 88.57%, Valid: 29.40% Test: 30.90%\n",
            "Epoch: 97, Loss: 0.2031, Train: 88.57%, Valid: 28.60% Test: 29.80%\n",
            "Epoch: 98, Loss: 0.1736, Train: 88.57%, Valid: 29.60% Test: 30.20%\n",
            "Epoch: 99, Loss: 0.4516, Train: 88.57%, Valid: 28.40% Test: 30.30%\n",
            "Epoch: 100, Loss: 0.1253, Train: 89.29%, Valid: 28.80% Test: 29.90%\n",
            "Epoch: 101, Loss: 0.0384, Train: 88.57%, Valid: 29.60% Test: 30.40%\n",
            "Epoch: 102, Loss: 0.1639, Train: 89.29%, Valid: 28.60% Test: 30.60%\n",
            "Epoch: 103, Loss: 0.0776, Train: 89.29%, Valid: 29.20% Test: 30.30%\n",
            "Epoch: 104, Loss: 0.1474, Train: 89.29%, Valid: 29.60% Test: 31.00%\n",
            "Epoch: 105, Loss: 0.0670, Train: 89.29%, Valid: 29.00% Test: 30.70%\n",
            "Epoch: 106, Loss: 0.0756, Train: 89.29%, Valid: 28.40% Test: 31.20%\n",
            "Epoch: 107, Loss: 0.0976, Train: 89.29%, Valid: 29.20% Test: 31.50%\n",
            "Epoch: 108, Loss: 0.0002, Train: 89.29%, Valid: 29.80% Test: 31.80%\n",
            "Epoch: 109, Loss: 0.0066, Train: 89.29%, Valid: 28.20% Test: 31.60%\n",
            "Epoch: 110, Loss: 0.0001, Train: 89.29%, Valid: 28.80% Test: 31.70%\n",
            "Epoch: 111, Loss: 0.0004, Train: 89.29%, Valid: 28.40% Test: 31.10%\n",
            "Epoch: 112, Loss: 0.0019, Train: 89.29%, Valid: 29.60% Test: 32.60%\n",
            "Epoch: 113, Loss: 0.0186, Train: 89.29%, Valid: 30.20% Test: 32.50%\n",
            "Epoch: 114, Loss: 0.0001, Train: 89.29%, Valid: 28.80% Test: 32.70%\n",
            "Epoch: 115, Loss: 0.0433, Train: 89.29%, Valid: 29.80% Test: 32.50%\n",
            "Epoch: 116, Loss: 0.0186, Train: 90.00%, Valid: 29.20% Test: 32.60%\n",
            "Epoch: 117, Loss: 0.0000, Train: 89.29%, Valid: 30.20% Test: 32.50%\n",
            "Epoch: 118, Loss: 0.0005, Train: 89.29%, Valid: 29.60% Test: 33.00%\n",
            "Epoch: 119, Loss: 0.0168, Train: 89.29%, Valid: 29.40% Test: 32.90%\n",
            "Epoch: 120, Loss: 0.0013, Train: 89.29%, Valid: 30.20% Test: 33.10%\n",
            "Epoch: 121, Loss: 0.0052, Train: 89.29%, Valid: 30.00% Test: 33.30%\n",
            "Epoch: 122, Loss: 0.0012, Train: 89.29%, Valid: 29.60% Test: 32.90%\n",
            "Epoch: 123, Loss: 0.0270, Train: 89.29%, Valid: 29.20% Test: 33.10%\n",
            "Epoch: 124, Loss: 0.2434, Train: 89.29%, Valid: 28.20% Test: 33.10%\n",
            "Epoch: 125, Loss: 0.0672, Train: 89.29%, Valid: 28.20% Test: 32.60%\n",
            "Epoch: 126, Loss: 0.0342, Train: 90.00%, Valid: 29.00% Test: 31.70%\n",
            "Epoch: 127, Loss: 0.0458, Train: 90.00%, Valid: 28.60% Test: 32.10%\n",
            "Epoch: 128, Loss: 0.0337, Train: 89.29%, Valid: 29.20% Test: 32.20%\n",
            "Epoch: 129, Loss: 0.0011, Train: 89.29%, Valid: 29.80% Test: 32.40%\n",
            "Epoch: 130, Loss: 0.1919, Train: 89.29%, Valid: 29.60% Test: 32.60%\n",
            "Epoch: 131, Loss: 0.1764, Train: 89.29%, Valid: 29.40% Test: 32.80%\n",
            "Epoch: 132, Loss: 0.0000, Train: 89.29%, Valid: 29.40% Test: 31.80%\n",
            "Epoch: 133, Loss: 0.0016, Train: 90.00%, Valid: 30.00% Test: 32.60%\n",
            "Epoch: 134, Loss: 0.0089, Train: 89.29%, Valid: 29.80% Test: 32.00%\n",
            "Epoch: 135, Loss: 0.0237, Train: 90.00%, Valid: 29.20% Test: 31.60%\n",
            "Epoch: 136, Loss: 0.2033, Train: 90.00%, Valid: 29.20% Test: 31.80%\n",
            "Epoch: 137, Loss: 0.0048, Train: 90.00%, Valid: 29.60% Test: 32.10%\n",
            "Epoch: 138, Loss: 0.0144, Train: 90.00%, Valid: 29.40% Test: 31.50%\n",
            "Epoch: 139, Loss: 0.0778, Train: 90.00%, Valid: 29.60% Test: 30.70%\n",
            "Epoch: 140, Loss: 0.0004, Train: 90.00%, Valid: 29.60% Test: 31.50%\n",
            "Epoch: 141, Loss: 0.0759, Train: 90.00%, Valid: 30.40% Test: 30.40%\n",
            "Epoch: 142, Loss: 0.0021, Train: 90.00%, Valid: 30.20% Test: 30.80%\n",
            "Epoch: 143, Loss: 0.0023, Train: 90.00%, Valid: 30.60% Test: 30.70%\n",
            "Epoch: 144, Loss: 0.0361, Train: 90.00%, Valid: 30.40% Test: 31.60%\n",
            "Epoch: 145, Loss: 0.0003, Train: 90.00%, Valid: 30.00% Test: 30.70%\n",
            "Epoch: 146, Loss: 0.0000, Train: 90.00%, Valid: 30.20% Test: 30.90%\n",
            "Epoch: 147, Loss: 0.0000, Train: 90.71%, Valid: 29.40% Test: 30.80%\n",
            "Epoch: 148, Loss: 0.0000, Train: 90.00%, Valid: 29.80% Test: 31.60%\n",
            "Epoch: 149, Loss: 0.0124, Train: 90.00%, Valid: 29.40% Test: 31.80%\n",
            "Epoch: 150, Loss: 0.0388, Train: 90.00%, Valid: 29.60% Test: 31.80%\n",
            "Saving Model Predictions for Model: cluster greedy\n",
            "Best model: Train: 90.00%, Valid: 30.60% Test: 30.70%\n"
          ]
        }
      ],
      "source": [
        "if 'IS_GRADESCOPE_ENV' not in os.environ:\n",
        "\n",
        "  set_seed()\n",
        "\n",
        "  model = GNN(graph_train.num_node_features, args['hidden_size'], graph_train.num_node_labels, args).to(args['device'])\n",
        "\n",
        "  # Disable compile as this does not seem to work yet in PyTorch 2.0.1/PyG 2.3.1\n",
        "  # try:\n",
        "  #   model = torch_geometric.compile(model)\n",
        "  #   print(f\"GNN Model compiled\")\n",
        "  # except Exception as err:\n",
        "  #   print(f\"Model compile not supported: {err}\")\n",
        "\n",
        "  optimizer = torch.optim.Adam(model.parameters(), lr=args['lr'])\n",
        "  greedy_best_model, greedy_accs = train(graphs, [graph_train, graph_val, graph_test], args, model, optimizer, mode=\"community\")\n",
        "  train_acc, val_acc, test_acc = test([graph_train, graph_val, graph_test], greedy_best_model, save_model_results=True, batch_type=\"cluster\", title=\"greedy\")\n",
        "  print('Best model:',\n",
        "        f'Train: {100 * train_acc:.2f}%, '\n",
        "        f'Valid: {100 * val_acc:.2f}% '\n",
        "        f'Test: {100 * test_acc:.2f}%')"
      ]
    },
    {
      "cell_type": "markdown",
      "metadata": {
        "id": "D5edKKT6Vk1C"
      },
      "source": [
        "## Full-Batch Training"
      ]
    },
    {
      "cell_type": "code",
      "execution_count": 58,
      "metadata": {
        "colab": {
          "base_uri": "https://localhost:8080/"
        },
        "id": "N5tIXxC8ViFD",
        "outputId": "f7fa91be-9b5a-43d4-fbbb-7754692e6171"
      },
      "outputs": [
        {
          "output_type": "stream",
          "name": "stdout",
          "text": [
            "Index fields: train_mask ignored.\n",
            "Index fields: val_mask ignored.\n",
            "Index fields: test_mask ignored.\n",
            "Epoch: 01, Loss: 2.0228, Train: 65.00%, Valid: 29.20% Test: 35.50%\n",
            "Epoch: 02, Loss: 1.0957, Train: 97.86%, Valid: 55.00% Test: 58.50%\n",
            "Epoch: 03, Loss: 0.6141, Train: 100.00%, Valid: 68.80% Test: 70.20%\n",
            "Epoch: 04, Loss: 0.2814, Train: 100.00%, Valid: 74.60% Test: 74.20%\n",
            "Epoch: 05, Loss: 0.1553, Train: 100.00%, Valid: 75.80% Test: 75.70%\n",
            "Epoch: 06, Loss: 0.0629, Train: 100.00%, Valid: 76.60% Test: 76.00%\n",
            "Epoch: 07, Loss: 0.0454, Train: 100.00%, Valid: 77.20% Test: 76.10%\n",
            "Epoch: 08, Loss: 0.0232, Train: 100.00%, Valid: 77.40% Test: 76.40%\n",
            "Epoch: 09, Loss: 0.0108, Train: 100.00%, Valid: 77.40% Test: 76.40%\n",
            "Epoch: 10, Loss: 0.0120, Train: 100.00%, Valid: 77.20% Test: 76.10%\n",
            "Epoch: 11, Loss: 0.0047, Train: 100.00%, Valid: 77.00% Test: 76.30%\n",
            "Epoch: 12, Loss: 0.0061, Train: 100.00%, Valid: 76.60% Test: 76.20%\n",
            "Epoch: 13, Loss: 0.0046, Train: 100.00%, Valid: 76.40% Test: 76.00%\n",
            "Epoch: 14, Loss: 0.0012, Train: 100.00%, Valid: 76.20% Test: 76.10%\n",
            "Epoch: 15, Loss: 0.0049, Train: 100.00%, Valid: 76.00% Test: 75.90%\n",
            "Epoch: 16, Loss: 0.0019, Train: 100.00%, Valid: 75.60% Test: 75.90%\n",
            "Epoch: 17, Loss: 0.0006, Train: 100.00%, Valid: 75.20% Test: 75.90%\n",
            "Epoch: 18, Loss: 0.0013, Train: 100.00%, Valid: 75.60% Test: 75.80%\n",
            "Epoch: 19, Loss: 0.0003, Train: 100.00%, Valid: 75.40% Test: 75.80%\n",
            "Epoch: 20, Loss: 0.0005, Train: 100.00%, Valid: 75.20% Test: 75.80%\n",
            "Epoch: 21, Loss: 0.0003, Train: 100.00%, Valid: 75.40% Test: 75.70%\n",
            "Epoch: 22, Loss: 0.0001, Train: 100.00%, Valid: 75.00% Test: 75.60%\n",
            "Epoch: 23, Loss: 0.0005, Train: 100.00%, Valid: 74.80% Test: 75.40%\n",
            "Epoch: 24, Loss: 0.0004, Train: 100.00%, Valid: 74.60% Test: 75.20%\n",
            "Epoch: 25, Loss: 0.0001, Train: 100.00%, Valid: 74.60% Test: 75.10%\n",
            "Epoch: 26, Loss: 0.0002, Train: 100.00%, Valid: 74.60% Test: 75.10%\n",
            "Epoch: 27, Loss: 0.0005, Train: 100.00%, Valid: 74.60% Test: 75.40%\n",
            "Epoch: 28, Loss: 0.0002, Train: 100.00%, Valid: 75.00% Test: 75.20%\n",
            "Epoch: 29, Loss: 0.0007, Train: 100.00%, Valid: 75.00% Test: 75.30%\n",
            "Epoch: 30, Loss: 0.0001, Train: 100.00%, Valid: 75.20% Test: 75.30%\n",
            "Epoch: 31, Loss: 0.0007, Train: 100.00%, Valid: 75.20% Test: 75.30%\n",
            "Epoch: 32, Loss: 0.0000, Train: 100.00%, Valid: 75.00% Test: 75.20%\n",
            "Epoch: 33, Loss: 0.0001, Train: 100.00%, Valid: 75.00% Test: 75.30%\n",
            "Epoch: 34, Loss: 0.0000, Train: 100.00%, Valid: 75.00% Test: 75.30%\n",
            "Epoch: 35, Loss: 0.0001, Train: 100.00%, Valid: 75.00% Test: 75.30%\n",
            "Epoch: 36, Loss: 0.0000, Train: 100.00%, Valid: 74.80% Test: 75.30%\n",
            "Epoch: 37, Loss: 0.0000, Train: 100.00%, Valid: 74.60% Test: 75.40%\n",
            "Epoch: 38, Loss: 0.0000, Train: 100.00%, Valid: 74.60% Test: 75.40%\n",
            "Epoch: 39, Loss: 0.0001, Train: 100.00%, Valid: 74.60% Test: 75.40%\n",
            "Epoch: 40, Loss: 0.0000, Train: 100.00%, Valid: 74.60% Test: 75.40%\n",
            "Epoch: 41, Loss: 0.0002, Train: 100.00%, Valid: 74.40% Test: 75.10%\n",
            "Epoch: 42, Loss: 0.0002, Train: 100.00%, Valid: 74.40% Test: 75.00%\n",
            "Epoch: 43, Loss: 0.0000, Train: 100.00%, Valid: 74.60% Test: 75.10%\n",
            "Epoch: 44, Loss: 0.0000, Train: 100.00%, Valid: 74.60% Test: 74.90%\n",
            "Epoch: 45, Loss: 0.0001, Train: 100.00%, Valid: 74.60% Test: 74.90%\n",
            "Epoch: 46, Loss: 0.0000, Train: 100.00%, Valid: 74.60% Test: 74.90%\n",
            "Epoch: 47, Loss: 0.0001, Train: 100.00%, Valid: 74.40% Test: 74.80%\n",
            "Epoch: 48, Loss: 0.0007, Train: 100.00%, Valid: 74.40% Test: 74.90%\n",
            "Epoch: 49, Loss: 0.0001, Train: 100.00%, Valid: 74.40% Test: 74.80%\n",
            "Epoch: 50, Loss: 0.0000, Train: 100.00%, Valid: 74.40% Test: 74.90%\n",
            "Epoch: 51, Loss: 0.0001, Train: 100.00%, Valid: 74.40% Test: 74.90%\n",
            "Epoch: 52, Loss: 0.0001, Train: 100.00%, Valid: 74.40% Test: 75.00%\n",
            "Epoch: 53, Loss: 0.0001, Train: 100.00%, Valid: 74.60% Test: 75.00%\n",
            "Epoch: 54, Loss: 0.0001, Train: 100.00%, Valid: 74.60% Test: 74.90%\n",
            "Epoch: 55, Loss: 0.0005, Train: 100.00%, Valid: 74.60% Test: 74.90%\n",
            "Epoch: 56, Loss: 0.0001, Train: 100.00%, Valid: 74.60% Test: 74.90%\n",
            "Epoch: 57, Loss: 0.0001, Train: 100.00%, Valid: 74.60% Test: 74.90%\n",
            "Epoch: 58, Loss: 0.0001, Train: 100.00%, Valid: 74.60% Test: 75.00%\n",
            "Epoch: 59, Loss: 0.0000, Train: 100.00%, Valid: 74.60% Test: 75.00%\n",
            "Epoch: 60, Loss: 0.0001, Train: 100.00%, Valid: 74.60% Test: 75.00%\n",
            "Epoch: 61, Loss: 0.0002, Train: 100.00%, Valid: 74.60% Test: 75.00%\n",
            "Epoch: 62, Loss: 0.0002, Train: 100.00%, Valid: 74.60% Test: 75.00%\n",
            "Epoch: 63, Loss: 0.0000, Train: 100.00%, Valid: 74.60% Test: 75.00%\n",
            "Epoch: 64, Loss: 0.0001, Train: 100.00%, Valid: 74.60% Test: 75.00%\n",
            "Epoch: 65, Loss: 0.0000, Train: 100.00%, Valid: 74.60% Test: 75.00%\n",
            "Epoch: 66, Loss: 0.0000, Train: 100.00%, Valid: 74.60% Test: 74.90%\n",
            "Epoch: 67, Loss: 0.0001, Train: 100.00%, Valid: 74.60% Test: 75.00%\n",
            "Epoch: 68, Loss: 0.0000, Train: 100.00%, Valid: 74.60% Test: 75.00%\n",
            "Epoch: 69, Loss: 0.0000, Train: 100.00%, Valid: 74.60% Test: 75.00%\n",
            "Epoch: 70, Loss: 0.0001, Train: 100.00%, Valid: 74.60% Test: 75.10%\n",
            "Epoch: 71, Loss: 0.0001, Train: 100.00%, Valid: 74.60% Test: 75.10%\n",
            "Epoch: 72, Loss: 0.0001, Train: 100.00%, Valid: 74.80% Test: 75.10%\n",
            "Epoch: 73, Loss: 0.0000, Train: 100.00%, Valid: 74.80% Test: 75.10%\n",
            "Epoch: 74, Loss: 0.0000, Train: 100.00%, Valid: 74.80% Test: 75.20%\n",
            "Epoch: 75, Loss: 0.0001, Train: 100.00%, Valid: 74.80% Test: 75.20%\n",
            "Epoch: 76, Loss: 0.0001, Train: 100.00%, Valid: 74.80% Test: 75.20%\n",
            "Epoch: 77, Loss: 0.0002, Train: 100.00%, Valid: 74.80% Test: 75.20%\n",
            "Epoch: 78, Loss: 0.0001, Train: 100.00%, Valid: 74.80% Test: 75.20%\n",
            "Epoch: 79, Loss: 0.0000, Train: 100.00%, Valid: 74.80% Test: 75.20%\n",
            "Epoch: 80, Loss: 0.0000, Train: 100.00%, Valid: 74.80% Test: 75.20%\n",
            "Epoch: 81, Loss: 0.0000, Train: 100.00%, Valid: 74.80% Test: 75.20%\n",
            "Epoch: 82, Loss: 0.0000, Train: 100.00%, Valid: 74.80% Test: 75.20%\n",
            "Epoch: 83, Loss: 0.0000, Train: 100.00%, Valid: 74.80% Test: 75.20%\n",
            "Epoch: 84, Loss: 0.0000, Train: 100.00%, Valid: 74.80% Test: 75.20%\n",
            "Epoch: 85, Loss: 0.0000, Train: 100.00%, Valid: 74.80% Test: 75.20%\n",
            "Epoch: 86, Loss: 0.0000, Train: 100.00%, Valid: 75.00% Test: 75.40%\n",
            "Epoch: 87, Loss: 0.0001, Train: 100.00%, Valid: 75.00% Test: 75.40%\n",
            "Epoch: 88, Loss: 0.0001, Train: 100.00%, Valid: 75.00% Test: 75.60%\n",
            "Epoch: 89, Loss: 0.0001, Train: 100.00%, Valid: 74.80% Test: 75.50%\n",
            "Epoch: 90, Loss: 0.0000, Train: 100.00%, Valid: 75.00% Test: 75.50%\n",
            "Epoch: 91, Loss: 0.0000, Train: 100.00%, Valid: 75.00% Test: 75.50%\n",
            "Epoch: 92, Loss: 0.0000, Train: 100.00%, Valid: 75.00% Test: 75.40%\n",
            "Epoch: 93, Loss: 0.0000, Train: 100.00%, Valid: 75.00% Test: 75.40%\n",
            "Epoch: 94, Loss: 0.0000, Train: 100.00%, Valid: 75.00% Test: 75.40%\n",
            "Epoch: 95, Loss: 0.0001, Train: 100.00%, Valid: 75.00% Test: 75.40%\n",
            "Epoch: 96, Loss: 0.0005, Train: 100.00%, Valid: 75.00% Test: 75.30%\n",
            "Epoch: 97, Loss: 0.0001, Train: 100.00%, Valid: 75.00% Test: 75.10%\n",
            "Epoch: 98, Loss: 0.0000, Train: 100.00%, Valid: 75.00% Test: 75.00%\n",
            "Epoch: 99, Loss: 0.0000, Train: 100.00%, Valid: 75.00% Test: 75.00%\n",
            "Epoch: 100, Loss: 0.0000, Train: 100.00%, Valid: 75.00% Test: 75.00%\n",
            "Epoch: 101, Loss: 0.0000, Train: 100.00%, Valid: 75.00% Test: 75.00%\n",
            "Epoch: 102, Loss: 0.0000, Train: 100.00%, Valid: 75.00% Test: 75.10%\n",
            "Epoch: 103, Loss: 0.0000, Train: 100.00%, Valid: 75.00% Test: 75.10%\n",
            "Epoch: 104, Loss: 0.0001, Train: 100.00%, Valid: 74.80% Test: 75.10%\n",
            "Epoch: 105, Loss: 0.0000, Train: 100.00%, Valid: 74.80% Test: 75.10%\n",
            "Epoch: 106, Loss: 0.0000, Train: 100.00%, Valid: 74.80% Test: 75.20%\n",
            "Epoch: 107, Loss: 0.0003, Train: 100.00%, Valid: 74.60% Test: 75.30%\n",
            "Epoch: 108, Loss: 0.0000, Train: 100.00%, Valid: 74.60% Test: 75.20%\n",
            "Epoch: 109, Loss: 0.0000, Train: 100.00%, Valid: 74.60% Test: 75.20%\n",
            "Epoch: 110, Loss: 0.0000, Train: 100.00%, Valid: 74.40% Test: 75.20%\n",
            "Epoch: 111, Loss: 0.0000, Train: 100.00%, Valid: 74.40% Test: 75.10%\n",
            "Epoch: 112, Loss: 0.0000, Train: 100.00%, Valid: 74.40% Test: 75.10%\n",
            "Epoch: 113, Loss: 0.0000, Train: 100.00%, Valid: 74.40% Test: 75.10%\n",
            "Epoch: 114, Loss: 0.0000, Train: 100.00%, Valid: 74.40% Test: 75.10%\n",
            "Epoch: 115, Loss: 0.0000, Train: 100.00%, Valid: 74.40% Test: 75.10%\n",
            "Epoch: 116, Loss: 0.0000, Train: 100.00%, Valid: 74.40% Test: 75.10%\n",
            "Epoch: 117, Loss: 0.0000, Train: 100.00%, Valid: 74.40% Test: 75.10%\n",
            "Epoch: 118, Loss: 0.0001, Train: 100.00%, Valid: 74.40% Test: 75.10%\n",
            "Epoch: 119, Loss: 0.0000, Train: 100.00%, Valid: 74.40% Test: 75.10%\n",
            "Epoch: 120, Loss: 0.0000, Train: 100.00%, Valid: 74.40% Test: 75.10%\n",
            "Epoch: 121, Loss: 0.0008, Train: 100.00%, Valid: 74.40% Test: 75.10%\n",
            "Epoch: 122, Loss: 0.0003, Train: 100.00%, Valid: 74.40% Test: 75.10%\n",
            "Epoch: 123, Loss: 0.0000, Train: 100.00%, Valid: 74.40% Test: 75.10%\n",
            "Epoch: 124, Loss: 0.0000, Train: 100.00%, Valid: 74.40% Test: 75.20%\n",
            "Epoch: 125, Loss: 0.0001, Train: 100.00%, Valid: 74.40% Test: 75.20%\n",
            "Epoch: 126, Loss: 0.0002, Train: 100.00%, Valid: 74.40% Test: 75.20%\n",
            "Epoch: 127, Loss: 0.0000, Train: 100.00%, Valid: 74.40% Test: 75.20%\n",
            "Epoch: 128, Loss: 0.0000, Train: 100.00%, Valid: 74.40% Test: 75.20%\n",
            "Epoch: 129, Loss: 0.0000, Train: 100.00%, Valid: 74.40% Test: 75.30%\n",
            "Epoch: 130, Loss: 0.0000, Train: 100.00%, Valid: 74.40% Test: 75.30%\n",
            "Epoch: 131, Loss: 0.0001, Train: 100.00%, Valid: 74.40% Test: 75.30%\n",
            "Epoch: 132, Loss: 0.0000, Train: 100.00%, Valid: 74.40% Test: 75.30%\n",
            "Epoch: 133, Loss: 0.0001, Train: 100.00%, Valid: 74.40% Test: 75.40%\n",
            "Epoch: 134, Loss: 0.0000, Train: 100.00%, Valid: 74.40% Test: 75.40%\n",
            "Epoch: 135, Loss: 0.0000, Train: 100.00%, Valid: 74.40% Test: 75.40%\n",
            "Epoch: 136, Loss: 0.0028, Train: 100.00%, Valid: 74.40% Test: 75.30%\n",
            "Epoch: 137, Loss: 0.0000, Train: 100.00%, Valid: 74.20% Test: 75.40%\n",
            "Epoch: 138, Loss: 0.0000, Train: 100.00%, Valid: 74.20% Test: 75.20%\n",
            "Epoch: 139, Loss: 0.0000, Train: 100.00%, Valid: 74.20% Test: 75.20%\n",
            "Epoch: 140, Loss: 0.0000, Train: 100.00%, Valid: 74.20% Test: 75.10%\n",
            "Epoch: 141, Loss: 0.0000, Train: 100.00%, Valid: 74.20% Test: 75.20%\n",
            "Epoch: 142, Loss: 0.0000, Train: 100.00%, Valid: 74.20% Test: 75.10%\n",
            "Epoch: 143, Loss: 0.0000, Train: 100.00%, Valid: 74.40% Test: 75.20%\n",
            "Epoch: 144, Loss: 0.0000, Train: 100.00%, Valid: 74.20% Test: 75.00%\n",
            "Epoch: 145, Loss: 0.0000, Train: 100.00%, Valid: 74.00% Test: 74.90%\n",
            "Epoch: 146, Loss: 0.0000, Train: 100.00%, Valid: 74.00% Test: 74.90%\n",
            "Epoch: 147, Loss: 0.0000, Train: 100.00%, Valid: 74.00% Test: 74.90%\n",
            "Epoch: 148, Loss: 0.0000, Train: 100.00%, Valid: 74.00% Test: 74.90%\n",
            "Epoch: 149, Loss: 0.0000, Train: 100.00%, Valid: 74.00% Test: 74.90%\n",
            "Epoch: 150, Loss: 0.0000, Train: 100.00%, Valid: 74.00% Test: 74.90%\n",
            "Best model: Train: 100.00%, Valid: 77.40% Test: 76.40%\n"
          ]
        }
      ],
      "source": [
        "if 'IS_GRADESCOPE_ENV' not in os.environ:\n",
        "\n",
        "  set_seed()\n",
        "\n",
        "  graphs_train, graphs_val, graphs_test = \\\n",
        "      GraphDataset.pyg_to_graphs(pyg_dataset, verbose=True, fixed_split=True)\n",
        "\n",
        "  graph_train = graphs_train[0]\n",
        "  graph_val = graphs_val[0]\n",
        "  graph_test = graphs_test[0]\n",
        "\n",
        "  model = GNN(graph_train.num_node_features, args['hidden_size'], graph_train.num_node_labels, args).to(args['device'])\n",
        "\n",
        "  # Disable compile as this does not seem to work yet in PyTorch 2.0.1/PyG 2.3.1\n",
        "  # try:\n",
        "  #   model = torch_geometric.compile(model)\n",
        "  #   print(f\"GNN Model compiled\")\n",
        "  # except Exception as err:\n",
        "  #   print(f\"Model compile not supported: {err}\")\n",
        "\n",
        "  optimizer = torch.optim.Adam(model.parameters(), lr=args['lr'])\n",
        "  graphs = [graph_train, graph_val, graph_test]\n",
        "  all_best_model, all_accs = train(graphs, graphs, args, model, optimizer, mode=\"all\")\n",
        "  train_acc, val_acc, test_acc = test([graph_train, graph_val, graph_test], all_best_model)\n",
        "  print('Best model:',\n",
        "        f'Train: {100 * train_acc:.2f}%, '\n",
        "        f'Valid: {100 * val_acc:.2f}% '\n",
        "        f'Test: {100 * test_acc:.2f}%')"
      ]
    },
    {
      "cell_type": "markdown",
      "metadata": {
        "id": "6RpuETv7Vpx0"
      },
      "source": [
        "## Visualization"
      ]
    },
    {
      "cell_type": "code",
      "execution_count": 59,
      "metadata": {
        "colab": {
          "base_uri": "https://localhost:8080/",
          "height": 641
        },
        "id": "PMK33kY5VmF5",
        "outputId": "6a659522-cc91-4bcf-a918-16d8b988be90"
      },
      "outputs": [
        {
          "output_type": "display_data",
          "data": {
            "text/plain": [
              "<Figure size 900x700 with 1 Axes>"
            ],
            "image/png": "[encoded data removed]"
          },
          "metadata": {}
        }
      ],
      "source": [
        "import numpy as np\n",
        "from matplotlib import pyplot as plt\n",
        "\n",
        "if 'IS_GRADESCOPE_ENV' not in os.environ:\n",
        "  louvain_results = np.array(louvain_accs)\n",
        "  bisection_results = np.array(bisection_accs)\n",
        "  greedy_results = np.array(greedy_accs)\n",
        "  all_results = np.array(all_accs)\n",
        "\n",
        "  x = np.arange(1, 151)\n",
        "\n",
        "  plt.figure(figsize=(9, 7))\n",
        "\n",
        "  plt.plot(x, louvain_results[:, 1], label=\"Louvain Validation\")\n",
        "  plt.plot(x, louvain_results[:, 2], label=\"Louvain Test\")\n",
        "  plt.plot(x, bisection_results[:, 1], label=\"Bisection Validation\")\n",
        "  plt.plot(x, bisection_results[:, 2], label=\"Bisection Test\")\n",
        "  plt.plot(x, greedy_results[:, 1], label=\"Greedy Validation\")\n",
        "  plt.plot(x, greedy_results[:, 2], label=\"Greedy Test\")\n",
        "  plt.plot(x, all_results[:, 1], label=\"All Validation\")\n",
        "  plt.plot(x, all_results[:, 2], label=\"All Test\")\n",
        "  plt.title('Model Accuracy')\n",
        "  plt.ylabel('Accuracy')\n",
        "  plt.xlabel('Epoch')\n",
        "  plt.legend()\n",
        "  plt.show()"
      ]
    },
    {
      "cell_type": "markdown",
      "metadata": {
        "id": "kfucBiYfVYFF"
      },
      "source": [
        "# Submission\n",
        "\n",
        "You will need to submit three files on Gradescope to complete this notebook.\n",
        "\n",
        "1.   Your completed *XCS224W_Colab5.ipynb*. From the \"File\" menu select \"Download .ipynb\" to save a local copy of your completed Colab.\n",
        "2.  *CORA_Node_batch_(0.7,0.9,1).csv*\n",
        "3.  *CORA_Node_batch_(0.3,0.5,1).csv*\n",
        "4.  *CORA_Node_cluster_louvain.csv*\n",
        "5.  *CORA_Node_cluster_greedy.csv*\n",
        "6.  *CORA_Node_cluster_bisection.csv*\n",
        "\n",
        "Download the csv files by selecting the *Folder* icon on the left panel.\n",
        "\n",
        "To submit your work, zip the files downloaded in steps 1-7 above and submit to gradescope. **NOTE:** DO NOT rename any of the downloaded files."
      ]
    }
  ],
  "metadata": {
    "accelerator": "GPU",
    "colab": {
      "machine_shape": "hm",
      "provenance": [],
      "include_colab_link": true
    },
    "kernelspec": {
      "display_name": "Python 3.8.10 64-bit",
      "language": "python",
      "name": "python3"
    },
    "language_info": {
      "codemirror_mode": {
        "name": "ipython",
        "version": 3
      },
      "file_extension": ".py",
      "mimetype": "text/x-python",
      "name": "python",
      "nbconvert_exporter": "python",
      "pygments_lexer": "ipython3",
      "version": "3.10.14"
    },
    "vscode": {
      "interpreter": {
        "hash": "31f2aee4e71d21fbe5cf8b01ff0e069b9275f58929596ceb00d14d90e3e16cd6"
      }
    }
  },
  "nbformat": 4,
  "nbformat_minor": 0
}